{
 "cells": [
  {
   "attachments": {},
   "cell_type": "markdown",
   "metadata": {},
   "source": [
    "# Recap"
   ]
  },
  {
   "cell_type": "code",
   "execution_count": 15,
   "metadata": {},
   "outputs": [
    {
     "name": "stdout",
     "output_type": "stream",
     "text": [
      "0 Start Wars\n",
      "1 Blade Runner\n",
      "2 Alien\n",
      "3 The Thing\n",
      "4 Total Recall\n"
     ]
    }
   ],
   "source": [
    "sci_fi = ['Start Wars','Blade Runner', 'Alien', 'The Thing', 'Total Recall']\n",
    "\n",
    "for film in sci_fi:\n",
    "    print(sci_fi.index(film), film)\n"
   ]
  },
  {
   "cell_type": "code",
   "execution_count": 22,
   "metadata": {},
   "outputs": [
    {
     "name": "stdout",
     "output_type": "stream",
     "text": [
      "\t M\n",
      "\t a\n",
      "\t r\n",
      "\t v\n",
      "\t i\n",
      "\t n\n"
     ]
    }
   ],
   "source": [
    "# for loop with string\n",
    "\n",
    "paranoid_android = 'Marvin'\n",
    "\n",
    "for char in paranoid_android:\n",
    "    print('\\t', char)"
   ]
  },
  {
   "cell_type": "markdown",
   "metadata": {},
   "source": [
    "# for loop understands slices"
   ]
  },
  {
   "cell_type": "code",
   "execution_count": 17,
   "metadata": {},
   "outputs": [
    {
     "name": "stdout",
     "output_type": "stream",
     "text": [
      "\t W\n",
      "\t h\n",
      "\t e\n",
      "\t n\n",
      "\t\t I\n",
      "\t\t\t f\n",
      "\t\t\t i\n",
      "\t\t\t n\n",
      "\t\t\t d\n"
     ]
    }
   ],
   "source": [
    "song_title = 'When I find myself in times of trouble'\n",
    "song_title_list = []\n",
    "song_title_list.extend(song_title)\n",
    "\n",
    "for char in song_title_list[:4]:        \n",
    "    print('\\t',char)\n",
    "\n",
    "for char in song_title_list[5:6]:\n",
    "    print(2*'\\t',char)\n",
    "\n",
    "for char in song_title_list[7:11]:\n",
    "    print(3*'\\t',char)\n",
    "\n",
    "\n",
    "# slicing 5 <= x < 6 --> index 5 adressed\n",
    "\n"
   ]
  },
  {
   "attachments": {},
   "cell_type": "markdown",
   "metadata": {},
   "source": [
    "# Dictionary"
   ]
  },
  {
   "cell_type": "code",
   "execution_count": 20,
   "metadata": {},
   "outputs": [],
   "source": [
    "# new line for maintanance reason\n",
    "\n",
    "person_1 = {'name': 'John', \n",
    "            'age': 27, 'job': \n",
    "            'programmer'\n",
    "            }\n",
    "person_2 = {'name': 'Mary',\n",
    "            'age': 24, \n",
    "            'job': 'teacher'\n",
    "            }\n",
    "person_3 = {'name': 'Bob', \n",
    "            'age': 30, \n",
    "            'job': 'doctor'\n",
    "            }"
   ]
  },
  {
   "attachments": {},
   "cell_type": "markdown",
   "metadata": {},
   "source": [
    "# Value lookup with square brackets in dictionary"
   ]
  },
  {
   "cell_type": "code",
   "execution_count": 27,
   "metadata": {},
   "outputs": [
    {
     "data": {
      "text/plain": [
       "{'name': 'Alina', 'age': 30, 'job': 'doctor', 'hobby': 'programming'}"
      ]
     },
     "execution_count": 27,
     "metadata": {},
     "output_type": "execute_result"
    }
   ],
   "source": [
    "person_3['name'] = 'Alina'          # change name from Bob to ALina\n",
    "person_3['hobby'] = 'programming'   #add hobby programming\n",
    "\n",
    "person_3"
   ]
  },
  {
   "attachments": {},
   "cell_type": "markdown",
   "metadata": {},
   "source": [
    "# Counting a Frequenz"
   ]
  },
  {
   "cell_type": "code",
   "execution_count": 28,
   "metadata": {},
   "outputs": [
    {
     "data": {
      "text/plain": [
       "{}"
      ]
     },
     "execution_count": 28,
     "metadata": {},
     "output_type": "execute_result"
    }
   ],
   "source": [
    "basket = {}\n",
    "basket"
   ]
  },
  {
   "cell_type": "code",
   "execution_count": 40,
   "metadata": {},
   "outputs": [
    {
     "data": {
      "text/plain": [
       "{'Milk': 0, 'Bread': 0, 'Eggs': 0, 'Coffee': 0, 'Noodles': 0}"
      ]
     },
     "execution_count": 40,
     "metadata": {},
     "output_type": "execute_result"
    }
   ],
   "source": [
    "basket['Milk'] = 0\n",
    "basket['Bread'] = 0\n",
    "basket['Eggs'] = 0\n",
    "basket['Coffee'] = 0\n",
    "basket['Noodles'] = 0\n",
    "\n",
    "basket"
   ]
  },
  {
   "cell_type": "code",
   "execution_count": 41,
   "metadata": {},
   "outputs": [
    {
     "data": {
      "text/plain": [
       "{'Milk': 3, 'Bread': 0, 'Eggs': 0, 'Coffee': 0, 'Noodles': 0}"
      ]
     },
     "execution_count": 41,
     "metadata": {},
     "output_type": "execute_result"
    }
   ],
   "source": [
    "basket['Milk'] += 3\n",
    "\n",
    "basket"
   ]
  }
 ],
 "metadata": {
  "kernelspec": {
   "display_name": ".venv",
   "language": "python",
   "name": "python3"
  },
  "language_info": {
   "codemirror_mode": {
    "name": "ipython",
    "version": 3
   },
   "file_extension": ".py",
   "mimetype": "text/x-python",
   "name": "python",
   "nbconvert_exporter": "python",
   "pygments_lexer": "ipython3",
   "version": "3.10.4"
  },
  "orig_nbformat": 4
 },
 "nbformat": 4,
 "nbformat_minor": 2
}
