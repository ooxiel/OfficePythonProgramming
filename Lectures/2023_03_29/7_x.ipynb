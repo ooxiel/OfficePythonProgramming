{
 "cells": [
  {
   "attachments": {},
   "cell_type": "markdown",
   "metadata": {},
   "source": [
    "# Recap"
   ]
  },
  {
   "cell_type": "code",
   "execution_count": 15,
   "metadata": {},
   "outputs": [
    {
     "name": "stdout",
     "output_type": "stream",
     "text": [
      "0 Start Wars\n",
      "1 Blade Runner\n",
      "2 Alien\n",
      "3 The Thing\n",
      "4 Total Recall\n"
     ]
    }
   ],
   "source": [
    "sci_fi = ['Start Wars','Blade Runner', 'Alien', 'The Thing', 'Total Recall']\n",
    "\n",
    "for film in sci_fi:\n",
    "    print(sci_fi.index(film), film)\n"
   ]
  },
  {
   "cell_type": "code",
   "execution_count": 22,
   "metadata": {},
   "outputs": [
    {
     "name": "stdout",
     "output_type": "stream",
     "text": [
      "\t M\n",
      "\t a\n",
      "\t r\n",
      "\t v\n",
      "\t i\n",
      "\t n\n"
     ]
    }
   ],
   "source": [
    "# for loop with string\n",
    "\n",
    "paranoid_android = 'Marvin'\n",
    "\n",
    "for char in paranoid_android:\n",
    "    print('\\t', char)"
   ]
  },
  {
   "cell_type": "markdown",
   "metadata": {},
   "source": [
    "# for loop understands slices"
   ]
  },
  {
   "cell_type": "code",
   "execution_count": 17,
   "metadata": {},
   "outputs": [
    {
     "name": "stdout",
     "output_type": "stream",
     "text": [
      "\t W\n",
      "\t h\n",
      "\t e\n",
      "\t n\n",
      "\t\t I\n",
      "\t\t\t f\n",
      "\t\t\t i\n",
      "\t\t\t n\n",
      "\t\t\t d\n"
     ]
    }
   ],
   "source": [
    "song_title = 'When I find myself in times of trouble'\n",
    "song_title_list = []\n",
    "song_title_list.extend(song_title)\n",
    "\n",
    "for char in song_title_list[:4]:        \n",
    "    print('\\t',char)\n",
    "\n",
    "for char in song_title_list[5:6]:\n",
    "    print(2*'\\t',char)\n",
    "\n",
    "for char in song_title_list[7:11]:\n",
    "    print(3*'\\t',char)\n",
    "\n",
    "\n",
    "# slicing 5 <= x < 6 --> index 5 adressed\n",
    "\n"
   ]
  },
  {
   "attachments": {},
   "cell_type": "markdown",
   "metadata": {},
   "source": [
    "# Dictionary"
   ]
  },
  {
   "cell_type": "code",
   "execution_count": 20,
   "metadata": {},
   "outputs": [],
   "source": [
    "# new line for maintanance reason\n",
    "\n",
    "person_1 = {'name': 'John', \n",
    "            'age': 27, 'job': \n",
    "            'programmer'\n",
    "            }\n",
    "person_2 = {'name': 'Mary',\n",
    "            'age': 24, \n",
    "            'job': 'teacher'\n",
    "            }\n",
    "person_3 = {'name': 'Bob', \n",
    "            'age': 30, \n",
    "            'job': 'doctor'\n",
    "            }"
   ]
  },
  {
   "attachments": {},
   "cell_type": "markdown",
   "metadata": {},
   "source": [
    "# Value lookup with square brackets in dictionary"
   ]
  },
  {
   "cell_type": "code",
   "execution_count": 27,
   "metadata": {},
   "outputs": [
    {
     "data": {
      "text/plain": [
       "{'name': 'Alina', 'age': 30, 'job': 'doctor', 'hobby': 'programming'}"
      ]
     },
     "execution_count": 27,
     "metadata": {},
     "output_type": "execute_result"
    }
   ],
   "source": [
    "person_3['name'] = 'Alina'          # change name from Bob to ALina\n",
    "person_3['hobby'] = 'programming'   #add hobby programming\n",
    "\n",
    "person_3"
   ]
  },
  {
   "attachments": {},
   "cell_type": "markdown",
   "metadata": {},
   "source": [
    "# Counting a Frequenz"
   ]
  },
  {
   "cell_type": "code",
   "execution_count": 28,
   "metadata": {},
   "outputs": [
    {
     "data": {
      "text/plain": [
       "{}"
      ]
     },
     "execution_count": 28,
     "metadata": {},
     "output_type": "execute_result"
    }
   ],
   "source": [
    "basket = {}\n",
    "basket"
   ]
  },
  {
   "cell_type": "code",
   "execution_count": 40,
   "metadata": {},
   "outputs": [
    {
     "data": {
      "text/plain": [
       "{'Milk': 0, 'Bread': 0, 'Eggs': 0, 'Coffee': 0, 'Noodles': 0}"
      ]
     },
     "execution_count": 40,
     "metadata": {},
     "output_type": "execute_result"
    }
   ],
   "source": [
    "basket['Milk'] = 0\n",
    "basket['Bread'] = 0\n",
    "basket['Eggs'] = 0\n",
    "basket['Coffee'] = 0\n",
    "basket['Noodles'] = 0\n",
    "\n",
    "basket"
   ]
  },
  {
   "cell_type": "code",
   "execution_count": 41,
   "metadata": {},
   "outputs": [
    {
     "data": {
      "text/plain": [
       "{'Milk': 3, 'Bread': 0, 'Eggs': 0, 'Coffee': 0, 'Noodles': 0}"
      ]
     },
     "execution_count": 41,
     "metadata": {},
     "output_type": "execute_result"
    }
   ],
   "source": [
    "basket['Milk'] += 3\n",
    "\n",
    "basket"
   ]
  },
  {
   "attachments": {},
   "cell_type": "markdown",
   "metadata": {},
   "source": [
    "# Iterating over a dictionary"
   ]
  },
  {
   "cell_type": "code",
   "execution_count": 66,
   "metadata": {},
   "outputs": [
    {
     "name": "stdout",
     "output_type": "stream",
     "text": [
      "Bread was bought 0 times\n",
      "Coffee was bought 0 times\n",
      "Eggs was bought 0 times\n",
      "Milk was bought 3 times\n",
      "Noodles was bought 0 times\n"
     ]
    }
   ],
   "source": [
    "for k,v in sorted(basket.items()):      # use two temporary variables\n",
    "    print(k,'was bought',v,'times')\n"
   ]
  },
  {
   "cell_type": "code",
   "execution_count": 52,
   "metadata": {},
   "outputs": [
    {
     "name": "stdout",
     "output_type": "stream",
     "text": [
      "dict_values([3, 0, 0, 0, 0])\n",
      "dict_keys(['Milk', 'Bread', 'Eggs', 'Coffee', 'Noodles'])\n"
     ]
    }
   ],
   "source": [
    "print(basket.values())\n",
    "print(basket.keys())"
   ]
  },
  {
   "cell_type": "code",
   "execution_count": 80,
   "metadata": {},
   "outputs": [
    {
     "name": "stdout",
     "output_type": "stream",
     "text": [
      "{'a': 1, 'e': 3, 'i': 1, 'o': 1, 'u': 1}\n"
     ]
    }
   ],
   "source": [
    "vocal = {'a':0, 'e': 0, 'i': 0, 'o': 0, 'u':0}\n",
    "\n",
    "test_string = 'desavouieren'\n",
    "test_string2 = test_string.lower()\n",
    "\n",
    "for char in test_string2:\n",
    "    for k in vocal.keys():\n",
    "        if k is char:\n",
    "            vocal[k] +=1\n",
    "\n",
    "print(vocal)"
   ]
  },
  {
   "cell_type": "code",
   "execution_count": 76,
   "metadata": {},
   "outputs": [
    {
     "data": {
      "text/plain": [
       "{'apple': 10, 'lemon': 4}"
      ]
     },
     "execution_count": 76,
     "metadata": {},
     "output_type": "execute_result"
    }
   ],
   "source": [
    "fruits = {}\n",
    "fruits['apple'] = 10\n",
    "\n",
    "\n",
    "if 'lemon' in fruits:\n",
    "    fruits['lemon'] += 4\n",
    "else:\n",
    "    fruits['lemon'] = 4\n",
    "\n",
    "fruits\n"
   ]
  },
  {
   "cell_type": "code",
   "execution_count": 87,
   "metadata": {},
   "outputs": [
    {
     "data": {
      "text/plain": [
       "{'e': 3, 'a': 1, 'o': 1, 'u': 1, 'i': 1}"
      ]
     },
     "execution_count": 87,
     "metadata": {},
     "output_type": "execute_result"
    }
   ],
   "source": [
    "vocal = ('a','e','i','o','u')\n",
    "resultset = {}\n",
    "\n",
    "test_string = 'desavouieren'\n",
    "test_string2 = test_string.lower()\n",
    "\n",
    "for char in test_string2: # type: ignore\n",
    "    if char in vocal and char in resultset.keys():      # proof that char at current index is in vocal but not in resultset keys, then update value+1\n",
    "        resultset[char] +=1\n",
    "    if char in vocal and char not in resultset.keys():  # proof that char at current index is in vocal and in resultset, then set value = 1\n",
    "        resultset[char] = 1\n",
    "\n",
    "resultset"
   ]
  },
  {
   "attachments": {},
   "cell_type": "markdown",
   "metadata": {},
   "source": [
    "# Sets don't allow duplicates\n",
    "\n",
    "Sets can do everything for example:\n",
    "- union\n",
    "- intersection\n",
    "- difference and\n",
    "- symmetric difference\n"
   ]
  },
  {
   "cell_type": "code",
   "execution_count": 88,
   "metadata": {},
   "outputs": [
    {
     "name": "stdout",
     "output_type": "stream",
     "text": [
      "['John', 'Mary', 'John', 'Bob']\n",
      "{'Mary', 'John', 'Bob'}\n"
     ]
    }
   ],
   "source": [
    "first_names_of_friends = ['John', 'Mary', 'John', 'Bob']\n",
    "\n",
    "print(first_names_of_friends)\n",
    "print(set(first_names_of_friends))"
   ]
  },
  {
   "attachments": {},
   "cell_type": "markdown",
   "metadata": {},
   "source": [
    "# Union: Combine two Sets"
   ]
  },
  {
   "cell_type": "code",
   "execution_count": 3,
   "metadata": {},
   "outputs": [
    {
     "name": "stdout",
     "output_type": "stream",
     "text": [
      "[' ', 'a', 'e', 'h', 'i', 'o', 'r', 't', 'u']\n"
     ]
    }
   ],
   "source": [
    "vowels = set('aeiou')\n",
    "word = 'hi there'\n",
    "\n",
    "u = vowels.union(set(word))\n",
    "print(sorted(list(u)))"
   ]
  },
  {
   "attachments": {},
   "cell_type": "markdown",
   "metadata": {},
   "source": [
    "# Set difference\n",
    "\n",
    "What is in the first, but not the second set?"
   ]
  },
  {
   "cell_type": "code",
   "execution_count": 8,
   "metadata": {},
   "outputs": [
    {
     "name": "stdout",
     "output_type": "stream",
     "text": [
      "['a', 'o', 'u']\n"
     ]
    }
   ],
   "source": [
    "vowels = set('aeiou')\n",
    "word = 'hi there'\n",
    "\n",
    "d = vowels.difference(word)\n",
    "\n",
    "print(sorted(list(d)))"
   ]
  },
  {
   "cell_type": "code",
   "execution_count": 3,
   "metadata": {},
   "outputs": [
    {
     "name": "stdout",
     "output_type": "stream",
     "text": [
      "['e', 'i']\n"
     ]
    }
   ],
   "source": [
    "vowels = set('aeiou')\n",
    "word = 'hi there'\n",
    "\n",
    "d = vowels.intersection(word)\n",
    "\n",
    "print(sorted(list(d)))"
   ]
  },
  {
   "attachments": {},
   "cell_type": "markdown",
   "metadata": {},
   "source": [
    "# Tuple"
   ]
  },
  {
   "cell_type": "code",
   "execution_count": 8,
   "metadata": {},
   "outputs": [
    {
     "name": "stdout",
     "output_type": "stream",
     "text": [
      "['a', 'e', 'i', 'o', 'u']\n",
      "<class 'list'>\n",
      "('a', 'e', 'i', 'o', 'u')\n",
      "<class 'tuple'>\n"
     ]
    }
   ],
   "source": [
    "vowels = 'aeiou'\n",
    "\n",
    "vowels_tuple = tuple(vowels)\n",
    "\n",
    "vowels_list = list(vowels)\n",
    "\n",
    "print(vowels_list)\n",
    "print(type(vowels_list))\n",
    "\n",
    "print(vowels_tuple)\n",
    "print(type(vowels_tuple))"
   ]
  },
  {
   "cell_type": "code",
   "execution_count": 20,
   "metadata": {},
   "outputs": [
    {
     "data": {
      "text/plain": [
       "tuple"
      ]
     },
     "execution_count": 20,
     "metadata": {},
     "output_type": "execute_result"
    }
   ],
   "source": [
    "company = ('Google')    # if tupel datatype only contains one element, it is not a tupel but a string, int or any other datatype\n",
    "\n",
    "type(company)           # type is string\n",
    "\n",
    "number = (2)\n",
    "\n",
    "type(number)            # type is int\n",
    "\n",
    "\n",
    "tupel_1 = ('Google',) #if tupel datatype contains one element and a comma, it is a tupel\n",
    "\n",
    "type(tupel_1)           # type is tupel"
   ]
  },
  {
   "cell_type": "code",
   "execution_count": 19,
   "metadata": {},
   "outputs": [
    {
     "name": "stdout",
     "output_type": "stream",
     "text": [
      "{'James Holden': {'actor': 'Steven Strait', 'salary': 1000000}, 'Naomi Nagata': {'actor': 'Dominique Tipper', 'salary': 575000}}\n"
     ]
    },
    {
     "data": {
      "text/plain": [
       "'Dominique Tipper'"
      ]
     },
     "execution_count": 19,
     "metadata": {},
     "output_type": "execute_result"
    }
   ],
   "source": [
    "expanse_characters = {'James Holden': {'actor': 'Steven Strait', 'salary': 1000000}, \n",
    "                      'Naomi Nagata': {'actor': 'Dominique Tipper', 'salary': 575000}}\n",
    "print(expanse_characters)\n",
    "\n",
    "\n",
    "expanse_characters['James Holden']['actor']\n",
    "expanse_characters['Naomi Nagata']['actor']\n",
    "\n"
   ]
  }
 ],
 "metadata": {
  "kernelspec": {
   "display_name": ".venv",
   "language": "python",
   "name": "python3"
  },
  "language_info": {
   "codemirror_mode": {
    "name": "ipython",
    "version": 3
   },
   "file_extension": ".py",
   "mimetype": "text/x-python",
   "name": "python",
   "nbconvert_exporter": "python",
   "pygments_lexer": "ipython3",
   "version": "3.10.4"
  },
  "orig_nbformat": 4
 },
 "nbformat": 4,
 "nbformat_minor": 2
}
