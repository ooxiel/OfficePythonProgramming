{
 "cells": [
  {
   "cell_type": "markdown",
   "metadata": {},
   "source": [
    "# Random Distributions"
   ]
  },
  {
   "cell_type": "code",
   "execution_count": 19,
   "metadata": {},
   "outputs": [
    {
     "data": {
      "text/plain": [
       "array([ 2, 58, 51,  5, 78, 19, 22, 16, 29, 15, 30, 70, 39, 79, 39, 24, 68,\n",
       "       70, 74, 76,  3, 44, 23, 21, 21, 71, 68, 19, 35, 64, 13, 54, 38, 79,\n",
       "       63, 20, 71, 68, 19, 45, 68, 20, 21, 15,  1, 43,  2, 50, 36, 16, 31,\n",
       "        2, 13, 41,  7, 62, 22, 79, 15, 54, 44, 78, 53, 74, 40, 19, 17, 74,\n",
       "       18, 63, 45, 24, 35, 68, 39, 74, 81, 26, 45, 45, 47,  7, 32, 50, 79,\n",
       "       21, 55, 66, 79, 15, 58, 27, 38,  2, 62,  3, 32, 43, 57, 40, 72, 11,\n",
       "       23, 22, 33,  1, 37, 33, 50, 49, 24, 37, 43, 71,  7, 53,  7, 23, 38,\n",
       "       69, 29, 43, 50, 65, 34, 49, 72, 38, 80, 34, 37,  2, 46, 40, 36, 54,\n",
       "       47, 81, 35, 38, 70, 42, 22, 45, 44, 35, 46, 50, 83,  6, 78, 42, 33,\n",
       "       52, 10, 64,  9, 37, 18, 26, 41,  1, 76, 65, 82,  7, 15, 42, 73, 26,\n",
       "       26, 72,  1, 81, 17, 28, 28, 77, 70, 29, 30, 70, 25, 68, 70, 56, 64,\n",
       "       20, 48, 12,  5, 37, 26, 13, 45, 75, 22, 16, 74,  3, 50, 48, 40, 37,\n",
       "        3, 73,  6, 14, 75, 31, 40, 55, 48, 80, 80, 23, 65, 59, 22, 13, 70,\n",
       "       63, 32, 25, 59, 21, 40, 20, 53, 32, 57, 28, 54, 53, 39, 47, 16, 64,\n",
       "       62, 26, 36, 82, 11, 47, 46, 58, 38, 59, 10, 13, 46, 13,  2, 40, 60,\n",
       "       45, 75, 24, 39, 16, 22, 43, 52, 57, 23, 20, 35, 19, 20, 82, 29, 62,\n",
       "       28,  3,  5, 84, 32,  1, 33, 23, 58, 78, 77,  7,  1, 73, 16, 13, 81,\n",
       "       16, 74, 67, 18, 77, 54, 40, 42,  4, 74, 27, 24,  2, 23, 30,  4, 57,\n",
       "       13, 23, 41, 56, 16, 79, 45, 40, 64, 18, 24, 79, 60, 81, 54, 12, 65,\n",
       "       77, 11, 25, 67, 11, 83, 11,  3, 65,  1,  8, 58, 65, 76, 21, 70, 36,\n",
       "       66, 13, 62, 56, 35, 39, 15, 34, 52, 69, 51, 40, 62, 59, 81, 67,  7,\n",
       "       53, 61, 82, 65, 47,  4, 19, 65, 47, 59, 21, 68,  8, 83, 65, 59, 23,\n",
       "       68, 27, 72, 85, 73, 35, 77, 38, 70, 79, 33, 68, 84, 74, 18, 40, 38,\n",
       "       19, 19,  6, 60,  7, 11, 12, 45, 23, 39, 67, 31, 20,  7, 36, 70, 39,\n",
       "       23, 27,  2, 16,  9, 23, 81, 73, 65, 85, 27, 32,  4, 40, 44, 29, 57,\n",
       "       32, 39, 59, 59, 63, 59, 27, 20, 13, 28, 61, 72, 38,  7, 78, 71, 35,\n",
       "       53,  3, 35, 62, 64, 84, 43, 40, 46, 81, 11, 14, 69, 19, 54, 30, 65,\n",
       "       35, 14, 77,  1, 83,  4, 44, 78, 60, 19, 54, 18, 74,  6, 10, 61, 48,\n",
       "       64, 69,  8, 66, 32, 66, 18, 84, 41,  3, 61, 10, 51, 14, 19, 50, 50,\n",
       "       37, 25,  6, 29, 24, 85, 34], dtype=int64)"
      ]
     },
     "execution_count": 19,
     "metadata": {},
     "output_type": "execute_result"
    }
   ],
   "source": [
    "# Uniform distribution: age\n",
    "\n",
    "import numpy as np\n",
    "\n",
    "rng = np.random.default_rng(seed = 123)\n",
    "age = rng.integers(low = 1, high = 86, size = 500)\n",
    "age\n",
    "\n",
    "\n"
   ]
  },
  {
   "cell_type": "code",
   "execution_count": 20,
   "metadata": {},
   "outputs": [
    {
     "data": {
      "text/plain": [
       "array([ 0.75, -0.13,  0.43, -0.15, -0.12, -0.25,  1.55, -1.59,  0.08,\n",
       "       -0.42,  2.21,  1.19,  0.2 ,  0.47,  0.02,  0.29,  0.93,  1.48,\n",
       "       -0.45,  2.49, -0.06,  2.71,  0.33,  0.41,  1.33,  0.13, -0.13,\n",
       "        1.39,  0.87, -1.62, -0.16, -0.52, -1.01,  1.48,  0.4 , -1.09,\n",
       "       -0.71, -0.37,  1.22,  0.91, -1.11,  1.23,  1.13, -0.4 , -0.24,\n",
       "        0.79,  1.41, -0.85, -0.34,  0.03, -0.07, -3.5 ,  0.31, -1.4 ,\n",
       "       -0.38,  0.56,  1.17,  0.09,  0.46,  0.24, -1.18,  0.99, -1.29,\n",
       "        1.58, -1.26, -0.13,  1.26,  0.61,  0.74, -0.69,  0.41,  1.46,\n",
       "        0.02, -0.35,  0.28,  0.85,  0.27, -0.84, -0.04,  0.23, -0.06,\n",
       "        0.01,  0.02,  1.04, -2.43,  0.87,  0.81,  0.08,  0.44, -1.36,\n",
       "       -0.36,  0.69,  0.51,  0.93,  1.2 , -0.1 ,  0.02,  0.61, -0.67,\n",
       "        1.48,  0.4 , -0.53, -0.37,  0.1 , -0.1 ,  0.91, -0.04,  1.94,\n",
       "       -0.6 ,  2.29, -0.96, -0.8 ,  0.33, -0.13, -2.67,  0.22, -0.  ,\n",
       "        0.98,  0.96, -0.91, -0.28,  0.36,  1.51, -0.56, -0.59,  1.12,\n",
       "        0.35,  0.48, -1.89, -0.88,  1.49,  0.6 , -0.1 ,  1.34,  0.46,\n",
       "        0.31, -1.75,  0.5 , -1.19, -0.13,  0.39,  1.01,  0.71,  0.28,\n",
       "        1.85,  1.02,  0.43,  1.38, -1.66,  0.98, -0.55,  1.74, -1.65,\n",
       "        0.47,  2.04,  0.18,  0.65,  0.08,  0.59,  1.09, -0.4 , -0.18,\n",
       "       -0.46,  0.51, -0.28, -1.  , -0.95,  1.06,  1.  ,  1.6 ,  0.73,\n",
       "        0.39, -0.8 , -0.73, -0.17, -0.16, -0.59,  0.84, -0.75,  0.33,\n",
       "       -0.41,  0.84, -0.56, -1.39,  0.07,  0.27,  0.85,  0.08,  1.07,\n",
       "        0.35, -0.34, -0.44,  0.33,  1.68,  2.43,  1.41,  0.21,  0.47,\n",
       "       -1.03, -0.79,  0.37, -0.78,  0.13,  0.07, -1.47,  0.27, -1.74,\n",
       "       -1.37, -1.36, -1.63, -0.36,  1.21, -1.23,  0.4 ,  0.25,  1.55,\n",
       "       -0.53, -1.16,  0.13, -0.09, -2.38, -0.21,  0.25, -1.46,  0.69,\n",
       "       -1.67, -0.75, -1.61,  0.25, -0.36, -0.71,  0.17, -0.03,  1.64,\n",
       "       -0.03,  0.13, -1.21, -2.25,  0.21,  0.97,  0.94,  0.63,  0.29,\n",
       "        0.27,  0.63, -0.31,  0.66,  0.37,  0.89, -0.07, -0.76, -0.47,\n",
       "       -1.52,  1.24,  0.69, -0.04, -0.81, -0.62, -0.89, -1.06, -0.63,\n",
       "       -0.07,  2.12, -0.71, -0.92,  0.38,  1.02,  0.58, -0.52,  0.54,\n",
       "        0.6 , -2.17,  0.03, -0.45,  0.91,  0.51, -1.22, -0.98,  1.88,\n",
       "       -0.74, -1.6 ,  0.45, -0.48, -0.12,  2.27,  2.02, -2.11,  1.02,\n",
       "       -0.97, -1.45,  0.82, -0.62, -0.39, -0.17, -0.22,  2.31,  0.29,\n",
       "        1.35, -0.13,  1.65, -0.26, -1.75, -1.37, -0.43,  0.69, -0.39,\n",
       "       -0.08, -2.88,  1.54,  0.06,  1.01,  0.7 ,  0.11, -1.13, -0.05,\n",
       "        0.26, -1.39,  0.25,  0.46, -0.13,  0.64,  1.89,  0.46,  1.39,\n",
       "       -1.03, -1.77, -0.4 , -0.43,  1.01,  0.54, -0.19,  0.11,  0.55,\n",
       "        1.5 , -0.99,  2.48, -0.27,  0.94,  0.58,  2.33,  1.56,  0.47,\n",
       "       -0.03,  1.84, -1.99, -1.16, -0.49, -0.74, -0.84,  2.51,  0.96,\n",
       "        0.7 ,  0.18,  1.61,  0.64, -0.99, -0.53, -1.86, -0.22,  0.39,\n",
       "        0.31,  0.21,  0.87, -0.02, -0.41, -0.72,  0.03, -1.44,  0.69,\n",
       "        0.08, -0.84, -0.44,  0.36,  0.28, -0.33, -0.04, -1.17,  0.44,\n",
       "       -1.58,  0.18, -0.65, -0.29,  0.02,  3.18, -0.24, -0.04,  1.41,\n",
       "        2.93,  1.05, -0.51, -0.1 ,  0.49, -0.23, -0.79,  1.04, -0.5 ,\n",
       "       -0.64,  0.83,  0.6 ,  0.25,  1.67, -1.02, -0.35,  0.67,  1.16,\n",
       "       -0.77,  1.02,  1.43,  0.76,  0.19, -1.1 , -0.44, -0.81, -1.36,\n",
       "        0.69, -0.37,  0.22,  1.28, -0.84,  0.67, -0.74,  0.05,  0.31,\n",
       "       -0.54, -0.78,  1.13, -1.03,  1.26,  0.21, -0.52, -0.34, -2.44,\n",
       "        0.54, -0.56, -0.47, -0.84,  0.72, -0.82,  0.26, -0.33,  0.2 ,\n",
       "       -0.6 , -0.62, -0.47, -0.57, -0.15,  1.87, -0.42, -0.07,  1.27,\n",
       "        0.45, -0.75,  0.54, -0.32, -0.23, -1.22, -0.67, -1.45,  1.24,\n",
       "       -0.36,  1.  , -1.15,  1.58,  1.15, -0.14,  0.46,  0.26, -0.39,\n",
       "        1.92, -1.82, -1.1 ,  1.16,  0.54,  2.22, -1.06, -0.28,  0.47,\n",
       "       -0.83,  0.53,  1.16,  0.64, -0.11, -0.11,  0.14, -0.19, -1.12,\n",
       "       -0.08,  0.23,  1.16, -0.61, -0.71, -1.14,  1.22, -1.04, -0.13,\n",
       "        0.26, -0.43,  0.9 ,  0.58,  0.11])"
      ]
     },
     "execution_count": 20,
     "metadata": {},
     "output_type": "execute_result"
    }
   ],
   "source": [
    "# Normal distribution: before_after\n",
    "\n",
    "import numpy as np\n",
    "rng = np.random.default_rng(seed = 123)\n",
    "before_after = np.random.normal(loc = 0, scale = 1, size = 500)\n",
    "\n",
    "rounded_before_after = np.round_(before_after, decimals=2)\n",
    "rounded_before_after\n"
   ]
  },
  {
   "cell_type": "code",
   "execution_count": 21,
   "metadata": {},
   "outputs": [
    {
     "data": {
      "text/plain": [
       "array([100, 112, 135, 123, 135, 131, 107, 130, 113, 113, 121,  90, 135,\n",
       "       106, 135, 122, 135, 106, 113, 126,  90, 135, 135, 135, 135, 117,\n",
       "       135, 135, 127, 120, 112,  95, 135,  90, 112, 123, 135, 135, 135,\n",
       "       114, 134,  94, 135, 116, 106, 107, 118, 112, 135, 105, 120, 120,\n",
       "       120, 121, 110, 108, 102,  90, 124, 135, 109, 108, 113, 110,  91,\n",
       "       135, 128, 105, 125, 111, 115, 127, 135, 135, 135, 115, 110, 121,\n",
       "       122, 105, 107, 135, 135, 115, 107, 114, 100, 114, 128, 118, 135,\n",
       "       123, 129, 117, 135,  95, 113,  96, 135, 135, 109, 135, 114,  92,\n",
       "       114, 127, 115, 135, 135, 135, 135,  90, 112,  90, 107, 135, 103,\n",
       "       107, 126, 135, 112, 114, 135, 125, 114, 126, 121, 125, 135, 113,\n",
       "       109, 135, 105, 135, 116, 121, 134, 135, 135, 115, 112, 126, 122,\n",
       "       107, 128, 135, 123, 135, 128, 116, 122, 108,  99, 129, 102, 112,\n",
       "       118, 127, 129, 121,  90, 115, 104, 117, 135, 135, 124, 130,  90,\n",
       "       123, 132, 105, 128, 112, 135, 135, 109, 135, 116, 135, 110, 121,\n",
       "       124, 104,  90, 104, 135, 113, 113, 135, 129, 134, 135, 101, 122,\n",
       "       123, 116,  98, 129,  90, 101, 103, 111, 135, 135, 135, 135, 128,\n",
       "        90, 135, 135, 129, 124, 133, 134, 122, 112, 127,  92,  90, 135,\n",
       "       110, 134, 135, 135, 108, 126,  96, 117, 135, 120,  90,  90, 103,\n",
       "       135, 123, 122,  93, 122,  90, 126, 135, 103, 135, 105, 122, 117,\n",
       "       121, 135, 135, 106,  90, 135, 135, 123, 108, 135,  90, 104,  90,\n",
       "       127, 110, 135, 120, 115, 131, 105,  98, 130, 110, 135, 126, 122,\n",
       "       121, 118, 128, 112,  90, 121, 110,  92, 135, 112,  90, 118, 106,\n",
       "        90, 126,  98, 134, 102, 135, 128, 122, 104, 135, 130, 112, 131,\n",
       "        99,  94, 118, 121, 128, 121, 135,  94, 131, 124, 135, 122, 126,\n",
       "       135, 135, 132, 112, 122,  90, 103, 132,  90, 121, 120, 127,  90,\n",
       "        90, 135, 122, 128, 135, 123,  90, 113, 135, 111, 113, 107, 135,\n",
       "       135,  90, 135, 104, 135,  93, 135, 108, 116, 135, 105, 126, 126,\n",
       "       135, 135, 135, 126, 128, 108, 104,  93, 115, 123, 120, 131,  92,\n",
       "       135, 126, 135, 126, 102, 113,  90, 124, 118, 135,  90, 118, 113,\n",
       "        94,  90,  96, 135, 135,  91, 116, 129, 126,  90, 107,  91, 135,\n",
       "       135, 119,  90, 135, 135, 135, 123, 130, 121, 134, 135, 104, 108,\n",
       "       113, 115, 123, 135,  93, 135, 116,  90, 112, 114, 130, 131, 119,\n",
       "       103, 135, 106,  96, 107, 109, 117, 111, 112, 134, 135, 130, 113,\n",
       "       106, 115, 117, 135, 114,  95, 103, 135, 101,  94, 114, 135, 121,\n",
       "       125,  90,  90, 119, 110, 127,  97, 135, 135,  90, 124, 114, 135,\n",
       "       124, 135, 118, 126, 135, 135,  90, 127, 124,  98, 104, 123, 135,\n",
       "       130, 111,  98,  90, 135, 108, 102, 126, 118, 119, 133, 110,  98,\n",
       "       117, 121,  98,  97,  99, 135, 135, 135, 101, 106,  94, 135, 110,\n",
       "       119, 110, 123,  99, 107, 101])"
      ]
     },
     "execution_count": 21,
     "metadata": {},
     "output_type": "execute_result"
    }
   ],
   "source": [
    "# Standard distribution: systolic blood pressure\n",
    "import numpy as np\n",
    "mu, sigma = 120, 20\n",
    "rng = np.random.default_rng(seed=123)\n",
    "systolic_blood_pressure = rng.normal(loc=mu, scale=sigma, size=500)\n",
    "systolic_blood_pressure_opt = np.clip(systolic_blood_pressure.astype(int), 90, 135)\n",
    "systolic_blood_pressure_opt\n",
    "\n",
    "# df means degree of freedom, means the number of values in the final calculation of the standard deviation"
   ]
  },
  {
   "cell_type": "code",
   "execution_count": 22,
   "metadata": {},
   "outputs": [
    {
     "data": {
      "text/plain": [
       "array([ 1.2,  0.2,  0.5,  0.6,  0.2,  4.7,  8.6,  0.3,  1. ,  1.7,  1.8,\n",
       "        0.7,  3.3,  0.9,  1.5,  1.6,  2.4,  0.3,  1. ,  0.6,  0.8,  1.2,\n",
       "        3.1,  2.2,  0.7,  0.1,  3. ,  2.6,  1.9,  1.3,  7.2,  1.3,  0.2,\n",
       "        4.5,  5.3,  0.1,  0.9,  2.1,  0.3,  0.8,  0.4,  1.8,  0.2,  3.5,\n",
       "        0.3,  0.5,  0.1,  0.1,  1.2,  2.1,  0.8,  0.5,  0. ,  1.4,  1.5,\n",
       "        2. ,  6.9,  3. ,  0.2,  1.9,  0.9,  2. ,  0.8,  3.5,  3.9,  0. ,\n",
       "        0.8,  2.3,  8.4,  1.8,  1.2,  1.5,  0.1,  1. ,  1.4,  2.9,  0.5,\n",
       "        1.4,  0. ,  0.8,  0.2,  3.6,  2. ,  5.7,  2.5,  1.4,  2.7,  1.6,\n",
       "        3.5,  0.4,  1.7,  1.4,  0.8,  1.5,  0.6,  0.6,  0.9,  0.2,  6.9,\n",
       "        2.8,  3. ,  0.8,  0.8,  1.2,  3.1,  0.9,  3.8,  0.4,  0.8,  0.3,\n",
       "        1. ,  0.9,  0.6,  1.4,  3.3,  1.7,  0.4,  0.8,  1.4,  1.7,  3.7,\n",
       "        0.5,  1.4,  0.7,  1. ,  1.9,  0.4,  0.6,  0.6,  1.3,  1.6,  0.3,\n",
       "        4.2,  1.7,  0.2,  2.3,  0. ,  0.5,  0.5,  0.4,  1.4,  0.5,  1.8,\n",
       "        3.5,  0.2,  1.2,  0.1,  0.8,  4. ,  0.8, 11.3,  2.7,  4. ,  0.4,\n",
       "        1.6,  1.2,  0.6,  0.9,  1.1,  0.9,  0.6,  4. ,  0.1,  2.1,  0.1,\n",
       "        0.4,  0.3,  0.7,  2.3,  2.3,  3. ,  3.6,  1.4,  2.3,  1.3,  0.8,\n",
       "        1.6,  0.5,  4. ,  1. ,  0.6,  4.4,  1.7,  0.9,  4.9,  1. ,  1.8,\n",
       "        4. ,  1.1,  2. ,  1.6,  0.7,  0.1,  0.1,  0.1,  1.5,  3.3,  1.1,\n",
       "        1.5,  2.4,  1.6,  0.9,  0.5,  1.7,  3.8,  1.6,  1.8,  0.7,  0.7,\n",
       "        1.9,  0.1,  0.3,  1.4,  0.3,  1.7,  1.2,  0.1,  2.2,  3.1,  3. ,\n",
       "        1.2,  0.2,  1.4,  2.1,  4.6,  0.7,  4.6,  1.4,  1.6,  1.4,  2.9,\n",
       "        0.2,  1.7,  2.1,  0.3,  0.3,  2.9,  0.1,  1.4,  0.1,  2.3,  1.3,\n",
       "        0.1,  1.5,  2.3,  2.7,  1.8,  1.9,  3.1,  5.8,  1.2,  5.3,  0.7,\n",
       "        3.3,  2. ,  6.7,  2.7,  1. ,  5.2,  0.6,  0.2,  0.9,  1.8,  2.8,\n",
       "        1.3,  7.9,  0.1,  0. ,  1.9,  0.4,  3.2,  0.9,  0.3,  2. ,  0.2,\n",
       "        4.5,  0.9,  0. ,  0.8,  0.3,  0.7,  3.2,  0.2, 10.3,  6.4,  6.8,\n",
       "        2.1,  2.8,  4.2,  5.9,  1. ,  0.2,  0.5,  2.8,  1. ,  0.3,  1.5,\n",
       "        2.1,  0.8,  3.2,  1.4,  0.2,  0.7,  0.5,  4.5,  0.4,  2. ,  2.7,\n",
       "        2.2,  4.9,  0.2,  3.9,  0.8,  2.6,  4.2,  1. ,  0.2,  0.4,  4. ,\n",
       "       12.4,  0. ,  2.8, 10.8,  1.1,  1.7,  0.3,  1. ,  4.9,  1.3,  1.1,\n",
       "        4.9,  5.8,  6.7,  1.4,  2.8,  6.2,  0.9,  0.3,  0.4,  0.6,  2.4,\n",
       "        2.1,  0.1,  1.2,  0.4,  2.7, 10.9,  1.1,  0.1,  0.7,  3. ,  1.6,\n",
       "        1.8,  4. ,  1.2,  0.9,  0.4,  0.4,  1.4,  0.7,  0.3,  3.3,  3.5,\n",
       "        2.9,  0.6,  1.3,  0.9,  1. ,  0.5,  0.6,  5.1,  0.1,  3.2,  1.2,\n",
       "        4.7,  1.1,  0.9,  4.9,  0.5,  0.1,  1.2,  1. ,  6.7,  1.8,  0.3,\n",
       "        0.6,  0.7,  4.9,  0.3,  1.2,  0.6,  0.4,  2.8,  4.5,  0.3,  0.2,\n",
       "        2.2,  0.2,  2.6,  5.5,  0.3,  1.7,  0.8,  1.1,  3.3,  0.2,  6.5,\n",
       "        3.6,  0.1,  1.2,  0.4,  3.3,  0.7,  0.7,  0.8,  4.6,  6.3,  1.6,\n",
       "        0.2,  1.3,  4.6,  7.6,  1.4,  0.4,  1. ,  2.6,  1.6,  1.6,  0.9,\n",
       "        0.1,  0.7,  1.5,  1.2,  7.2,  1. ,  2.2,  1.2,  0.9,  6. ,  0.6,\n",
       "        8.6,  1. ,  0. ,  0.5,  4.9,  3. ,  3.1,  3.8,  1.6,  0.7,  0.8,\n",
       "        3.6,  0.5,  2.2,  0.1,  0.9,  5. ,  6.3,  2.4,  3.2,  2.1,  0.4,\n",
       "        2.2,  1.2,  2.6, 11. ,  1.6,  3.8,  1.9,  6.3,  0.3,  2. ,  3. ,\n",
       "        1.1,  0.3,  0.8,  4.5,  2.9,  2.5,  1.7,  0.8,  8. ,  0.3,  6. ,\n",
       "        1.6,  2.7,  1.5,  0.6,  3.9,  0.3,  3.9,  0.2, 13.9,  3.9,  0.6,\n",
       "        7.8,  4.6,  0.5,  1.7,  3.5])"
      ]
     },
     "execution_count": 22,
     "metadata": {},
     "output_type": "execute_result"
    }
   ],
   "source": [
    "# CHI-squared distribution: crp\n",
    "\n",
    "import numpy as np\n",
    "rng = np.random.default_rng(seed=123)\n",
    "crp = rng.chisquare(df=2, size=500)\n",
    "crp = np.round_(crp, decimals=1)\n",
    "\n",
    "crp"
   ]
  },
  {
   "cell_type": "code",
   "execution_count": 23,
   "metadata": {},
   "outputs": [],
   "source": [
    "# Random choice uniform\n",
    "# treatment vs control\n",
    "\n",
    "import numpy as np\n",
    "rng = np.random.default_rng(seed=123)\n",
    "treatment_vs_control = rng.choice(a=['treatment', 'control'], size=500)"
   ]
  },
  {
   "cell_type": "code",
   "execution_count": 24,
   "metadata": {},
   "outputs": [
    {
     "data": {
      "text/plain": [
       "array(['treatment', 'control', 'control', 'treatment', 'control',\n",
       "       'treatment', 'treatment', 'treatment', 'treatment', 'treatment',\n",
       "       'treatment', 'control', 'treatment', 'control', 'treatment',\n",
       "       'treatment', 'control', 'control', 'control', 'control',\n",
       "       'treatment', 'control', 'treatment', 'treatment', 'treatment',\n",
       "       'control', 'control', 'treatment', 'treatment', 'control',\n",
       "       'treatment', 'control', 'treatment', 'control', 'control',\n",
       "       'treatment', 'control', 'control', 'treatment', 'control',\n",
       "       'control', 'treatment', 'treatment', 'treatment', 'treatment',\n",
       "       'treatment', 'treatment', 'control', 'treatment', 'treatment',\n",
       "       'treatment', 'treatment', 'treatment', 'treatment', 'treatment',\n",
       "       'control', 'treatment', 'control', 'treatment', 'control',\n",
       "       'control', 'control', 'control', 'control', 'treatment',\n",
       "       'treatment', 'treatment', 'control', 'treatment', 'control',\n",
       "       'control', 'treatment', 'treatment', 'control', 'treatment',\n",
       "       'control', 'control', 'treatment', 'control', 'control', 'control',\n",
       "       'treatment', 'treatment', 'control', 'control', 'treatment',\n",
       "       'control', 'control', 'control', 'treatment', 'control',\n",
       "       'treatment', 'treatment', 'treatment', 'control', 'treatment',\n",
       "       'treatment', 'treatment', 'control', 'treatment', 'control',\n",
       "       'treatment', 'treatment', 'treatment', 'treatment', 'treatment',\n",
       "       'treatment', 'treatment', 'control', 'control', 'treatment',\n",
       "       'treatment', 'control', 'control', 'treatment', 'control',\n",
       "       'treatment', 'treatment', 'treatment', 'control', 'treatment',\n",
       "       'treatment', 'control', 'control', 'treatment', 'control',\n",
       "       'control', 'treatment', 'control', 'treatment', 'treatment',\n",
       "       'treatment', 'control', 'treatment', 'treatment', 'control',\n",
       "       'control', 'control', 'treatment', 'treatment', 'control',\n",
       "       'treatment', 'treatment', 'control', 'control', 'treatment',\n",
       "       'control', 'control', 'control', 'treatment', 'control',\n",
       "       'treatment', 'treatment', 'control', 'treatment', 'control',\n",
       "       'treatment', 'treatment', 'treatment', 'treatment', 'treatment',\n",
       "       'treatment', 'control', 'control', 'control', 'treatment',\n",
       "       'treatment', 'treatment', 'control', 'treatment', 'treatment',\n",
       "       'control', 'treatment', 'control', 'treatment', 'treatment',\n",
       "       'treatment', 'control', 'control', 'treatment', 'treatment',\n",
       "       'control', 'treatment', 'control', 'control', 'control', 'control',\n",
       "       'treatment', 'control', 'treatment', 'treatment', 'treatment',\n",
       "       'treatment', 'treatment', 'control', 'control', 'treatment',\n",
       "       'treatment', 'control', 'treatment', 'control', 'control',\n",
       "       'treatment', 'treatment', 'treatment', 'control', 'treatment',\n",
       "       'treatment', 'control', 'treatment', 'treatment', 'control',\n",
       "       'control', 'control', 'control', 'treatment', 'control', 'control',\n",
       "       'treatment', 'treatment', 'control', 'control', 'treatment',\n",
       "       'treatment', 'control', 'treatment', 'treatment', 'treatment',\n",
       "       'control', 'treatment', 'control', 'treatment', 'control',\n",
       "       'control', 'treatment', 'control', 'treatment', 'control',\n",
       "       'control', 'treatment', 'treatment', 'control', 'treatment',\n",
       "       'control', 'control', 'control', 'treatment', 'control',\n",
       "       'treatment', 'treatment', 'control', 'treatment', 'treatment',\n",
       "       'treatment', 'control', 'control', 'control', 'treatment',\n",
       "       'treatment', 'treatment', 'treatment', 'control', 'control',\n",
       "       'control', 'treatment', 'treatment', 'treatment', 'treatment',\n",
       "       'treatment', 'control', 'treatment', 'control', 'treatment',\n",
       "       'treatment', 'treatment', 'control', 'treatment', 'treatment',\n",
       "       'treatment', 'treatment', 'control', 'control', 'control',\n",
       "       'treatment', 'treatment', 'control', 'treatment', 'treatment',\n",
       "       'control', 'treatment', 'control', 'control', 'treatment',\n",
       "       'control', 'control', 'treatment', 'treatment', 'treatment',\n",
       "       'control', 'treatment', 'treatment', 'treatment', 'treatment',\n",
       "       'treatment', 'treatment', 'control', 'treatment', 'treatment',\n",
       "       'treatment', 'control', 'treatment', 'control', 'control',\n",
       "       'treatment', 'control', 'treatment', 'treatment', 'control',\n",
       "       'control', 'control', 'control', 'treatment', 'control', 'control',\n",
       "       'treatment', 'treatment', 'control', 'treatment', 'control',\n",
       "       'treatment', 'treatment', 'control', 'treatment', 'treatment',\n",
       "       'control', 'control', 'control', 'treatment', 'control',\n",
       "       'treatment', 'control', 'treatment', 'control', 'control',\n",
       "       'treatment', 'treatment', 'treatment', 'treatment', 'control',\n",
       "       'control', 'control', 'treatment', 'control', 'control', 'control',\n",
       "       'control', 'treatment', 'control', 'control', 'control', 'control',\n",
       "       'control', 'treatment', 'treatment', 'control', 'control',\n",
       "       'control', 'treatment', 'control', 'treatment', 'control',\n",
       "       'control', 'control', 'treatment', 'control', 'treatment',\n",
       "       'control', 'control', 'control', 'treatment', 'control',\n",
       "       'treatment', 'control', 'control', 'treatment', 'control',\n",
       "       'control', 'control', 'treatment', 'treatment', 'treatment',\n",
       "       'treatment', 'treatment', 'treatment', 'control', 'treatment',\n",
       "       'treatment', 'treatment', 'control', 'treatment', 'treatment',\n",
       "       'control', 'treatment', 'treatment', 'treatment', 'treatment',\n",
       "       'control', 'treatment', 'treatment', 'treatment', 'treatment',\n",
       "       'treatment', 'treatment', 'treatment', 'control', 'control',\n",
       "       'control', 'control', 'treatment', 'treatment', 'treatment',\n",
       "       'treatment', 'control', 'treatment', 'control', 'treatment',\n",
       "       'treatment', 'control', 'control', 'control', 'control',\n",
       "       'treatment', 'treatment', 'treatment', 'treatment', 'control',\n",
       "       'control', 'treatment', 'treatment', 'control', 'control',\n",
       "       'treatment', 'control', 'treatment', 'treatment', 'control',\n",
       "       'control', 'control', 'control', 'treatment', 'control', 'control',\n",
       "       'treatment', 'treatment', 'control', 'treatment', 'control',\n",
       "       'treatment', 'control', 'treatment', 'treatment', 'control',\n",
       "       'treatment', 'control', 'treatment', 'control', 'control',\n",
       "       'control', 'treatment', 'control', 'treatment', 'control',\n",
       "       'treatment', 'treatment', 'control', 'control', 'control',\n",
       "       'control', 'treatment', 'control', 'treatment', 'control',\n",
       "       'treatment', 'control', 'treatment', 'treatment', 'control',\n",
       "       'treatment', 'control', 'treatment', 'treatment', 'control',\n",
       "       'control', 'treatment', 'treatment', 'treatment', 'treatment',\n",
       "       'treatment', 'control', 'treatment'], dtype='<U9')"
      ]
     },
     "execution_count": 24,
     "metadata": {},
     "output_type": "execute_result"
    }
   ],
   "source": [
    "# Random choice uniform\n",
    "# treatment vs control\n",
    "\n",
    "import numpy as np\n",
    "rng = np.random.default_rng(seed=123)\n",
    "groups = ['treatment', 'control']\n",
    "groups = rng.choice(groups, size=500)\n",
    "groups"
   ]
  },
  {
   "cell_type": "code",
   "execution_count": 25,
   "metadata": {},
   "outputs": [],
   "source": [
    "# Random choice iwth probaility: side effects\n",
    "\n",
    "import numpy as np\n",
    "rng = np.random.default_rng(seed=123)\n",
    "side_effects = ['Yes', 'No']\n",
    "side_effects = rng.choice(side_effects, size=500, p=[0.2, 0.8])"
   ]
  },
  {
   "cell_type": "markdown",
   "metadata": {},
   "source": [
    "# Brief description overview"
   ]
  },
  {
   "cell_type": "code",
   "execution_count": 26,
   "metadata": {},
   "outputs": [
    {
     "name": "stdout",
     "output_type": "stream",
     "text": [
      "numvar_mean \t 120.11\n",
      "numvar_median \t 120.64633983519636\n",
      "numvar_max \t 172.57893133750258\n",
      "numvar_min \t 54.034372690004176\n",
      "numvar_stdev \t 19.86\n",
      "numvar_25p \t 107.2696031146044\n",
      "numvar_75p \t 134.4489753626028\n",
      "numvar_iqr \t 27.18\n"
     ]
    }
   ],
   "source": [
    "# Statistics about sbp: brief overview\n",
    "import numpy as np \n",
    "def brief_stat(numvar, acc):\n",
    "    numvar_mean = np.round_(np.mean(numvar), decimals=acc)\n",
    "    numvar_median = np.median(numvar)\n",
    "    numvar_max = np.max(numvar)\n",
    "    numvar_min = np.min(numvar)\n",
    "    numvar_stdev = np.round_(np.std(numvar), decimals=acc)\n",
    "    numvar_25p = np.percentile(numvar, 25)\n",
    "    numvar_75p = np.percentile(numvar, 75)\n",
    "    numvar_iqr = np.round_(numvar_75p - numvar_25p, decimals=acc)\n",
    "    \n",
    "    return numvar_mean, numvar_median, numvar_max, numvar_min, numvar_stdev, numvar_25p, numvar_75p,  numvar_iqr\n",
    "tuple=('numvar_mean', 'numvar_median', 'numvar_max', 'numvar_min', 'numvar_stdev', 'numvar_25p', 'numvar_75p',  'numvar_iqr')\n",
    "for i in range(0, len(brief_stat(systolic_blood_pressure, 2))):\n",
    "    print(tuple[i],'\\t',brief_stat(systolic_blood_pressure, 2)[i])"
   ]
  },
  {
   "cell_type": "code",
   "execution_count": 28,
   "metadata": {},
   "outputs": [],
   "source": [
    "# Create 2d dataset\n",
    "import numpy as np\n",
    "import pandas as pd\n",
    "\n",
    "biostat_ds = np.stack((age, before_after, systolic_blood_pressure, crp, groups, side_effects), axis = 1)\n",
    "\n",
    "pd.DataFrame(biostat_ds).to_csv('biostat.csv')\n",
    "\n"
   ]
  },
  {
   "attachments": {},
   "cell_type": "markdown",
   "metadata": {},
   "source": [
    "# NUMPY IN DEPTH"
   ]
  },
  {
   "cell_type": "code",
   "execution_count": 36,
   "metadata": {},
   "outputs": [
    {
     "name": "stdout",
     "output_type": "stream",
     "text": [
      "my_array:[1 2 3 4 5 6] \n",
      " \n",
      "      shape:(6,) \n",
      " \n",
      "      size:6 \n",
      " \n",
      "      Dimension:1\n"
     ]
    }
   ],
   "source": [
    "import numpy as np\n",
    "my_array = np.array([1,2,3,4,5,6])\n",
    "\n",
    "my_array.shape\n",
    "my_array.size\n",
    "my_array.ndim\n",
    "\n",
    "print(f\"\"\"my_array:{my_array} \\n \n",
    "      shape:{my_array.shape} \\n \n",
    "      size:{my_array.size} \\n \n",
    "      Dimension:{my_array.ndim}\"\"\")"
   ]
  },
  {
   "cell_type": "code",
   "execution_count": 38,
   "metadata": {},
   "outputs": [
    {
     "data": {
      "text/plain": [
       "2"
      ]
     },
     "execution_count": 38,
     "metadata": {},
     "output_type": "execute_result"
    }
   ],
   "source": [
    "# Fig2\n",
    "import numpy as np\n",
    "my_array = np.array([1,2,3]).reshape(1,3)\n",
    "\n",
    "my_array.shape"
   ]
  },
  {
   "cell_type": "code",
   "execution_count": 43,
   "metadata": {},
   "outputs": [
    {
     "data": {
      "text/plain": [
       "2"
      ]
     },
     "execution_count": 43,
     "metadata": {},
     "output_type": "execute_result"
    }
   ],
   "source": [
    "# Task: Array: 2D, size 12, Zeilenanzahl von 3\n",
    "\n",
    "import numpy as np\n",
    "\n",
    "my_array = np.array((1, 13)).reshape(3, 4)\n",
    "\n",
    "my_array = np.array([1,2,3,4,5,6,7,8,9,10,11,12]).reshape(3,4)\n",
    "my_array.shape\n",
    "my_array.ndim"
   ]
  },
  {
   "cell_type": "code",
   "execution_count": 47,
   "metadata": {},
   "outputs": [
    {
     "data": {
      "text/plain": [
       "array([[[ 1,  2,  3,  4],\n",
       "        [ 5,  6,  7,  8]],\n",
       "\n",
       "       [[ 9, 10, 11, 12],\n",
       "        [13, 14, 15, 16]],\n",
       "\n",
       "       [[17, 18, 19, 20],\n",
       "        [21, 22, 23, 24]]])"
      ]
     },
     "execution_count": 47,
     "metadata": {},
     "output_type": "execute_result"
    }
   ],
   "source": [
    "# Task: Array with values btw 1 and 24; 3 rows, 2 cols, 4 flors\n",
    "\n",
    "my_array = np.arange(1, 25).reshape(3,2,4)\n",
    "my_array"
   ]
  },
  {
   "cell_type": "code",
   "execution_count": 46,
   "metadata": {},
   "outputs": [
    {
     "data": {
      "text/plain": [
       "array([0., 0., 0., 0., 0., 0.])"
      ]
     },
     "execution_count": 46,
     "metadata": {},
     "output_type": "execute_result"
    }
   ],
   "source": [
    "# Fig5\n",
    "import numpy as np\n",
    "my_zeros = np.zeros(6)\n",
    "my_zeros"
   ]
  },
  {
   "cell_type": "code",
   "execution_count": 48,
   "metadata": {},
   "outputs": [
    {
     "data": {
      "text/plain": [
       "array([[1., 1., 1., 1.],\n",
       "       [1., 1., 1., 1.],\n",
       "       [1., 1., 1., 1.]])"
      ]
     },
     "execution_count": 48,
     "metadata": {},
     "output_type": "execute_result"
    }
   ],
   "source": [
    "#Task: 2D array with 3 rows, 4 cols, filled with 1\n",
    "\n",
    "my_ones = np.ones((3,4))\n",
    "my_ones"
   ]
  },
  {
   "cell_type": "code",
   "execution_count": 49,
   "metadata": {},
   "outputs": [
    {
     "data": {
      "text/plain": [
       "array([[0., 0., 0.],\n",
       "       [0., 0., 0.]])"
      ]
     },
     "execution_count": 49,
     "metadata": {},
     "output_type": "execute_result"
    }
   ],
   "source": [
    "import numpy as np\n",
    "my_empty = np.empty((2,3))\n",
    "my_empty"
   ]
  },
  {
   "cell_type": "code",
   "execution_count": 50,
   "metadata": {},
   "outputs": [
    {
     "data": {
      "text/plain": [
       "array([ 1.,  4.,  7., 10.])"
      ]
     },
     "execution_count": 50,
     "metadata": {},
     "output_type": "execute_result"
    }
   ],
   "source": [
    "import numpy as np\n",
    "my_linespace = np.linspace(start=1, stop=10, num=4, dtype=np.float64)\n",
    "my_linespace"
   ]
  },
  {
   "cell_type": "code",
   "execution_count": 64,
   "metadata": {},
   "outputs": [
    {
     "data": {
      "text/plain": [
       "2"
      ]
     },
     "execution_count": 64,
     "metadata": {},
     "output_type": "execute_result"
    }
   ],
   "source": [
    "# Fig9\n",
    "\n",
    "import numpy as np\n",
    "a = np.array([1,2])\n",
    "b = np.array([3,4])\n",
    "\n",
    "my_concat = np.concatenate((a,b)).reshape(4,1)\n",
    "my_concat.ndim\n"
   ]
  },
  {
   "cell_type": "code",
   "execution_count": 76,
   "metadata": {},
   "outputs": [
    {
     "name": "stdout",
     "output_type": "stream",
     "text": [
      "[7 8]\n",
      "[7 7 8 8 8]\n"
     ]
    },
    {
     "data": {
      "text/plain": [
       "1"
      ]
     },
     "execution_count": 76,
     "metadata": {},
     "output_type": "execute_result"
    }
   ],
   "source": [
    "# Fig10\n",
    "# Repeat\n",
    "import numpy as np\n",
    "c = np.array([7,8])\n",
    "frequency = np.array([2,3])\n",
    "\n",
    "my_repeat = c.repeat(frequency) # repeat is based on positioning -> 7 times 2, 8 times 3\n",
    "print(c)\n",
    "print(my_repeat)\n",
    "\n",
    "my_repeat.shape\n",
    "my_repeat.ndim"
   ]
  },
  {
   "cell_type": "code",
   "execution_count": 87,
   "metadata": {},
   "outputs": [
    {
     "data": {
      "text/plain": [
       "array([[[1]],\n",
       "\n",
       "       [[2]],\n",
       "\n",
       "       [[3]],\n",
       "\n",
       "       [[4]],\n",
       "\n",
       "       [[5]],\n",
       "\n",
       "       [[6]],\n",
       "\n",
       "       [[7]]])"
      ]
     },
     "execution_count": 87,
     "metadata": {},
     "output_type": "execute_result"
    }
   ],
   "source": [
    "# Task: The items btw 1 to 7 are given, pls create as much shapes possible\n",
    "\n",
    "import numpy as np\n",
    "def item_reshape(rows, cols, floors):\n",
    "    item_array = np.arange(1,8)\n",
    "    item_array = item_array.reshape(rows, cols, floors)\n",
    "    return item_array\n",
    "\n",
    "item_reshape(1, 7, 1)\n",
    "item_reshape(7, 1, 1)\n"
   ]
  },
  {
   "cell_type": "code",
   "execution_count": 96,
   "metadata": {},
   "outputs": [
    {
     "data": {
      "text/plain": [
       "1.6666666666666667"
      ]
     },
     "execution_count": 96,
     "metadata": {},
     "output_type": "execute_result"
    }
   ],
   "source": [
    "# Exkurs: Anwendung von Numpy am Beispeil der lineraren Regression\n",
    "\n",
    "predictions = np.array([1,1,1])\n",
    "labels = np.array([1,2,3])\n",
    "\n",
    "# Formel:\n",
    "SdkFQ = np.sum((predictions-labels)^2)/3 # Summe aller predictions - labels hoch 2\n",
    "\n",
    "np.square(labels)\n",
    "\n",
    "predictions - labels\n",
    "\n",
    "\n",
    "# Task: Compute the error\n",
    "SdkFQ = np.sum(np.square(predictions-labels))/labels.size\n",
    "SdkFQ\n"
   ]
  }
 ],
 "metadata": {
  "kernelspec": {
   "display_name": "Python 3",
   "language": "python",
   "name": "python3"
  },
  "language_info": {
   "codemirror_mode": {
    "name": "ipython",
    "version": 3
   },
   "file_extension": ".py",
   "mimetype": "text/x-python",
   "name": "python",
   "nbconvert_exporter": "python",
   "pygments_lexer": "ipython3",
   "version": "3.11.3"
  },
  "orig_nbformat": 4
 },
 "nbformat": 4,
 "nbformat_minor": 2
}
