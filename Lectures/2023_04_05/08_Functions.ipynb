{
 "cells": [
  {
   "attachments": {},
   "cell_type": "markdown",
   "metadata": {},
   "source": [
    "# Functions and Modules"
   ]
  },
  {
   "attachments": {},
   "cell_type": "markdown",
   "metadata": {},
   "source": [
    "Functions as chunk of code <br>\n",
    "Modules aka collecetion of Functions <br>\n",
    "Libary aka collection of modules <br>"
   ]
  },
  {
   "cell_type": "code",
   "execution_count": null,
   "metadata": {},
   "outputs": [],
   "source": [
    "# Body of a function\n",
    "def a_descriptive_name():\n",
    "    \"\"\"A documentation string\"\"\"\n",
    "    #\n",
    "    #\n",
    "    #"
   ]
  },
  {
   "cell_type": "code",
   "execution_count": null,
   "metadata": {},
   "outputs": [],
   "source": [
    "def x():\n",
    "    \"\"\"decription: \"\"\"\n",
    "    vowels = {'a','e','i','o','u'}  # set of vowels\n",
    "    test = input(\"Enter a word: \") # get input from user\n",
    "    found = vowels.intersection(set(test)) # find vowels in word\n",
    "\n",
    "    # print vowels\n",
    "    for vowel in found:\n",
    "        print(vowel)\n",
    "\n",
    "x()     "
   ]
  },
  {
   "attachments": {},
   "cell_type": "markdown",
   "metadata": {},
   "source": [
    "# Bool"
   ]
  },
  {
   "cell_type": "code",
   "execution_count": 1,
   "metadata": {},
   "outputs": [
    {
     "data": {
      "text/plain": [
       "False"
      ]
     },
     "execution_count": 1,
     "metadata": {},
     "output_type": "execute_result"
    }
   ],
   "source": [
    "bool() # returns False"
   ]
  },
  {
   "cell_type": "code",
   "execution_count": null,
   "metadata": {},
   "outputs": [],
   "source": [
    "bool(0.0) # returns False"
   ]
  },
  {
   "cell_type": "code",
   "execution_count": 2,
   "metadata": {},
   "outputs": [
    {
     "data": {
      "text/plain": [
       "False"
      ]
     },
     "execution_count": 2,
     "metadata": {},
     "output_type": "execute_result"
    }
   ],
   "source": [
    "bool('') # returns False"
   ]
  },
  {
   "cell_type": "code",
   "execution_count": null,
   "metadata": {},
   "outputs": [],
   "source": [
    "bool(None) # not defined; returns False"
   ]
  },
  {
   "cell_type": "code",
   "execution_count": null,
   "metadata": {},
   "outputs": [],
   "source": [
    "## Evalues to True"
   ]
  },
  {
   "cell_type": "code",
   "execution_count": 3,
   "metadata": {},
   "outputs": [
    {
     "data": {
      "text/plain": [
       "True"
      ]
     },
     "execution_count": 3,
     "metadata": {},
     "output_type": "execute_result"
    }
   ],
   "source": [
    "bool(1) # returns True"
   ]
  },
  {
   "cell_type": "code",
   "execution_count": 4,
   "metadata": {},
   "outputs": [
    {
     "data": {
      "text/plain": [
       "True"
      ]
     },
     "execution_count": 4,
     "metadata": {},
     "output_type": "execute_result"
    }
   ],
   "source": [
    "bool('a') # returns True"
   ]
  },
  {
   "cell_type": "code",
   "execution_count": 5,
   "metadata": {},
   "outputs": [
    {
     "data": {
      "text/plain": [
       "True"
      ]
     },
     "execution_count": 5,
     "metadata": {},
     "output_type": "execute_result"
    }
   ],
   "source": [
    "bool(True) # returns True"
   ]
  },
  {
   "cell_type": "code",
   "execution_count": 6,
   "metadata": {},
   "outputs": [
    {
     "data": {
      "text/plain": [
       "True"
      ]
     },
     "execution_count": 6,
     "metadata": {},
     "output_type": "execute_result"
    }
   ],
   "source": [
    "bool(not None) # returns True"
   ]
  },
  {
   "cell_type": "code",
   "execution_count": 7,
   "metadata": {},
   "outputs": [
    {
     "name": "stdout",
     "output_type": "stream",
     "text": [
      "True\n"
     ]
    }
   ],
   "source": [
    "def x():\n",
    "    \"\"\"decription: \"\"\"\n",
    "    vowels = {'a','e','i','o','u'}  # set of vowels\n",
    "    test = input(\"Enter a word: \") # get input from user\n",
    "    found = vowels.intersection(set(test)) # find vowels in word\n",
    "\n",
    "    print(bool(found)) # print True if vowels found\n",
    "\n",
    "x()"
   ]
  },
  {
   "cell_type": "code",
   "execution_count": 21,
   "metadata": {},
   "outputs": [
    {
     "name": "stdout",
     "output_type": "stream",
     "text": [
      "set()\n"
     ]
    }
   ],
   "source": [
    "def returnVowels(word):\n",
    "    vowels = {'a','e','i','o','u'}  # set of vowels\n",
    "    found = vowels.intersection(set(word)) # find vowels in word\n",
    "\n",
    "    return found\n",
    "\n",
    "print(returnVowels('sky'))"
   ]
  },
  {
   "cell_type": "markdown",
   "metadata": {},
   "source": [
    "# Create the for naive Datastructures but empty"
   ]
  },
  {
   "cell_type": "code",
   "execution_count": 49,
   "metadata": {},
   "outputs": [
    {
     "name": "stdout",
     "output_type": "stream",
     "text": [
      "my_list \t []\n",
      "my_tuple \t ()\n",
      "my_set \t set()\n",
      "my_dict \t {}\n",
      "Built-in immutable sequence.\n",
      "\n",
      "If no argument is given, the constructor returns an empty tuple.\n",
      "If iterable is specified the tuple is initialized from iterable's items.\n",
      "\n",
      "If the argument is a tuple, the return value is the same object.\n"
     ]
    }
   ],
   "source": [
    "\n",
    "def empty_data_structures():\n",
    "    my_list, my_tuple, my_set, my_dict = [], (), set(), {}\n",
    "    return my_list, my_tuple, my_set, my_dict\n",
    "\n",
    "\n",
    "new_tuple = ('my_list', 'my_tuple', 'my_set', 'my_dict')\n",
    "\n",
    "for i in range(0, len(new_tuple)):\n",
    "    print(new_tuple[i],'\\t',empty_data_structures()[i])\n",
    "\n",
    "    # print(new_tuple[0], '\\t', empty_data_structures()[0]) -> my_list []\n",
    "    # print(new_tuple[1], '\\t', empty_data_structures()[1]) -> my_tuple ()\n",
    "    # print(new_tuple[2], '\\t', empty_data_structures()[2]) -> my_set set()\n",
    "    # print(new_tuple[3], '\\t', empty_data_structures()[3]) -> my_dict {}\n"
   ]
  },
  {
   "cell_type": "markdown",
   "metadata": {},
   "source": [
    "# ANNOTAIONS"
   ]
  },
  {
   "cell_type": "code",
   "execution_count": null,
   "metadata": {},
   "outputs": [],
   "source": [
    "def which_vowels(word: str) -> set:\n",
    "    '''Returns a set of vowels found in a word'''\n",
    "    vowels = {'a','e','i','o','u'}  # set of vowels\n",
    "    word_set = set(word.lower()) # convert word to lower case\n",
    "    found = vowels.intersection(set(word)) # find vowels in word\n",
    "\n",
    "    return found "
   ]
  },
  {
   "cell_type": "code",
   "execution_count": null,
   "metadata": {},
   "outputs": [],
   "source": [
    "def which_vowels(word:set) -> set:\n",
    "    \"\"\"Returns a set of vowels in a word- I am a Docstring\"\"\"\n",
    "    vowels = set(\"ABCDEFGHIJ\") # ersten 10 aus Alphabet\n",
    "    word_set = set(word.upper())\n",
    "    return vowels.intersection(word_set)    # why not a print\n",
    "which_vowels('Hallo mein Name ist Cedrik und neben mir sitzt Sebastian')\n",
    "\n"
   ]
  }
 ],
 "metadata": {
  "kernelspec": {
   "display_name": "Python 3",
   "language": "python",
   "name": "python3"
  },
  "language_info": {
   "codemirror_mode": {
    "name": "ipython",
    "version": 3
   },
   "file_extension": ".py",
   "mimetype": "text/x-python",
   "name": "python",
   "nbconvert_exporter": "python",
   "pygments_lexer": "ipython3",
   "version": "3.11.2"
  },
  "orig_nbformat": 4
 },
 "nbformat": 4,
 "nbformat_minor": 2
}
