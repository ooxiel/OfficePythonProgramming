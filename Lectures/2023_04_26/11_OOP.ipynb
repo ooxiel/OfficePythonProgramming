{
 "cells": [
  {
   "cell_type": "markdown",
   "metadata": {},
   "source": [
    "# OOP\n"
   ]
  },
  {
   "attachments": {},
   "cell_type": "markdown",
   "metadata": {},
   "source": [
    "## Terms\n",
    "\n",
    "|Keyword|Concept|\n",
    "|------:|:------------------------|\n",
    "|Class|Blueprint for creating objects of a particular type|\n",
    "|Instance|An object build with a class as template|\n",
    "|Object|Anything, for example the instance of a class|\n",
    "|Inheritance|A class can inherit capabilities from a super (parent) class|\n",
    "|Composition|Build complex objects out of other objects|\n",
    "|Function|Function without a connection to an object: *sum(object)*|\n",
    "|Method|Function in connection to an object: *object.sum()*|\n",
    "|Parameter|Function- or Class Variables the creator uses to build an object|\n",
    "|Attribut|Function- or Class Variables the user works with|"
   ]
  },
  {
   "attachments": {},
   "cell_type": "markdown",
   "metadata": {},
   "source": [
    "## Create a basic class"
   ]
  },
  {
   "cell_type": "code",
   "execution_count": 3,
   "metadata": {},
   "outputs": [
    {
     "data": {
      "text/plain": [
       "'War an Peace'"
      ]
     },
     "execution_count": 3,
     "metadata": {},
     "output_type": "execute_result"
    }
   ],
   "source": [
    "class Book:\n",
    "    def __init__(self, title) -> None:\n",
    "        self.title = title\n",
    "\n",
    "\n",
    "book1 = Book('Brave new world')\n",
    "book2 = Book('War an Peace')\n",
    "\n",
    "book2.title"
   ]
  },
  {
   "cell_type": "code",
   "execution_count": 4,
   "metadata": {},
   "outputs": [
    {
     "ename": "AttributeError",
     "evalue": "'Book' object has no attribute '__secret'",
     "output_type": "error",
     "traceback": [
      "\u001b[1;31m---------------------------------------------------------------------------\u001b[0m",
      "\u001b[1;31mAttributeError\u001b[0m                            Traceback (most recent call last)",
      "Cell \u001b[1;32mIn[4], line 33\u001b[0m\n\u001b[0;32m     30\u001b[0m \u001b[39m# Properties with one or two __\u001b[39;00m\n\u001b[0;32m     31\u001b[0m book2\u001b[39m.\u001b[39m_discount\n\u001b[1;32m---> 33\u001b[0m book2\u001b[39m.\u001b[39;49m__secret \u001b[39m# will fail \u001b[39;00m\n\u001b[0;32m     35\u001b[0m \u001b[39mprint\u001b[39m(book2\u001b[39m.\u001b[39m_Book__secret)\n",
      "\u001b[1;31mAttributeError\u001b[0m: 'Book' object has no attribute '__secret'"
     ]
    }
   ],
   "source": [
    "class Book:\n",
    "    def __init__(self, title, pages, author, price) -> None:\n",
    "        self.title = title\n",
    "        self.pages = pages\n",
    "        self.author = author\n",
    "        self.price = price\n",
    "        self.__secret = 'This is a secrete attribute'\n",
    "\n",
    "    def setDiscount(self, amount):\n",
    "        self._discount = amount\n",
    "    \n",
    "    def getPrice(self):\n",
    "        if hasattr(self, '_discount'):\n",
    "            return self.price - (self.price*self._discount)\n",
    "        else:\n",
    "            return self.price\n",
    "        \n",
    "book1 = Book('Brave new world', 275, 'Aldous Huxley', 29.95)\n",
    "book2 = Book('War and Peace', 1024, 'Leo Tolstoy', 39.95)\n",
    "\n",
    "\n",
    "book1.getPrice()\n",
    "\n",
    "# Task: Preis von Buch 2, Buch 2 mit Discount versehen, neuer Preis von Buch 2\n",
    "\n",
    "book2.getPrice()\n",
    "book2.setDiscount(0.25)\n",
    "book2.getPrice()\n",
    "\n",
    "# Properties with one or two __\n",
    "book2._discount\n",
    "\n",
    "book2.__secret # will fail \n",
    "\n",
    "print(book2._Book__secret)"
   ]
  },
  {
   "attachments": {},
   "cell_type": "markdown",
   "metadata": {},
   "source": [
    "## Typecheck"
   ]
  },
  {
   "cell_type": "code",
   "execution_count": 5,
   "metadata": {},
   "outputs": [],
   "source": [
    "class Book:\n",
    "    \"\"\"\n",
    "    Verwaltung der Bookstore Items\n",
    "    \"\"\"\n",
    "\n",
    "    def __init__(self, title):\n",
    "        self.title = title\n",
    "\n",
    "class Newspaper:\n",
    "    \"\"\"\n",
    "    Verwaltung der Zeitschriften im Bookstore\n",
    "    \"\"\"\n",
    "\n",
    "    def __init__(self, name):\n",
    "        self.name = name\n",
    "\n",
    "book1 = Book('Catcher in the Rye')\n",
    "book2 = Book('The Grapes of Washinton Post')\n",
    "newspaper1 = Newspaper('The Washington Post')\n",
    "newspaper2 = Newspaper('The New York Times')"
   ]
  },
  {
   "cell_type": "code",
   "execution_count": 9,
   "metadata": {},
   "outputs": [
    {
     "data": {
      "text/plain": [
       "False"
      ]
     },
     "execution_count": 9,
     "metadata": {},
     "output_type": "execute_result"
    }
   ],
   "source": [
    "type(book1) == type(book2)\n",
    "type(book1) == type(newspaper2)"
   ]
  },
  {
   "cell_type": "code",
   "execution_count": 14,
   "metadata": {},
   "outputs": [
    {
     "data": {
      "text/plain": [
       "__main__.Newspaper"
      ]
     },
     "execution_count": 14,
     "metadata": {},
     "output_type": "execute_result"
    }
   ],
   "source": [
    "# Compare a specific instance to a know type\n",
    "\n",
    "isinstance(book1, Book)\n",
    "isinstance(newspaper2, Newspaper)\n",
    "isinstance(book1, Newspaper)\n",
    "isinstance(newspaper2, object)"
   ]
  },
  {
   "cell_type": "code",
   "execution_count": 47,
   "metadata": {},
   "outputs": [
    {
     "name": "stdout",
     "output_type": "stream",
     "text": [
      "## Boat 1\t Schwan \t\t Trettboot \t\t 5 \t \t 0 \t \t Not required \t \t True \t \t 10 \t \t False\n",
      "## Boat 2\t Farnz \t\t\t Nusschale \t\t 10 \t \t 69 \t \t required \t \t False \t \t 30 \t \t True\n"
     ]
    },
    {
     "data": {
      "text/plain": [
       "'Alredy rented'"
      ]
     },
     "execution_count": 47,
     "metadata": {},
     "output_type": "execute_result"
    }
   ],
   "source": [
    "class Boat:\n",
    "    \"\"\"\n",
    "    Verwaltung Bootsverwaltung\n",
    "    \"\"\"\n",
    "\n",
    "    def __init__(self, name, type, capazity, ps, rented, pricePerHour):\n",
    "        self.name = name\n",
    "        self.type = type\n",
    "        self.capazity = capazity\n",
    "        self.ps = ps\n",
    "        self.licence = 'Not required'\n",
    "        self.rented = rented\n",
    "        self.pricePerHour = pricePerHour\n",
    "\n",
    "        self.drinks = False\n",
    "\n",
    "        if self.pricePerHour >= 30:\n",
    "            self.drinks = True\n",
    "\n",
    "        if ps > 10:\n",
    "            self.licence = 'required'\n",
    "    \n",
    "    def setRented(self, rent):\n",
    "        if self.rented is True:\n",
    "            return 'Alredy rented'\n",
    "        else:\n",
    "            self.rented = rent\n",
    "\n",
    "    def setGrill(self, grill):\n",
    "        self.grill = grill\n",
    "\n",
    "    def getTotalPrice(self, _hour):\n",
    "\n",
    "        if _hour >= 6 and self.pricePerHour >= 20:\n",
    "            return 600\n",
    "        else:\n",
    "            return self.pricePerHour*_hour\n",
    "\n",
    "        \n",
    "\n",
    "boat1 = Boat('Schwan','Trettboot', 5, 0, True, 10)\n",
    "boat2 = Boat('Farnz','Nusschale', 10, 69, False, 30)\n",
    "\n",
    "\n",
    "print('## Boat 1\\t', boat1.name,'\\t\\t', boat1.type,'\\t\\t', boat1.capazity,'\\t','\\t', boat1.ps,'\\t','\\t', boat1.licence,'\\t','\\t', boat1.rented,'\\t','\\t', boat1.pricePerHour,'\\t','\\t', boat1.drinks)\n",
    "print('## Boat 2\\t', boat2.name,'\\t\\t\\t', boat2.type,'\\t\\t', boat2.capazity,'\\t','\\t', boat2.ps,'\\t','\\t', boat2.licence,'\\t','\\t', boat2.rented,'\\t','\\t', boat2.pricePerHour,'\\t','\\t', boat2.drinks)\n",
    "\n",
    "\n",
    "\n"
   ]
  },
  {
   "cell_type": "markdown",
   "metadata": {},
   "source": [
    "# Class Methods"
   ]
  },
  {
   "cell_type": "code",
   "execution_count": 67,
   "metadata": {},
   "outputs": [],
   "source": [
    "class Book:\n",
    "    BOOK_TYPES = ('HARDCOVER', 'PAPERBACK', 'EBOOK')\n",
    "\n",
    "    __booklist = None\n",
    "\n",
    "    @staticmethod\n",
    "    def getbooklist():\n",
    "        if Book.__booklist == None:\n",
    "            Book.__booklist = []\n",
    "        return Book.__booklist\n",
    "\n",
    "    @classmethod\n",
    "    def getbooktypes(cls):\n",
    "        return cls.BOOK_TYPES\n",
    "\n",
    "    def setTitle(self, newtitle):\n",
    "        self.newtitle = newtitle\n",
    "    \n",
    "    def __init__(self, title, booktype):\n",
    "        self.title = title\n",
    "\n",
    "        if booktype in Book.BOOK_TYPES:\n",
    "            self.booktype = booktype\n",
    "        else:\n",
    "            raise ValueError(f'{booktype} is not a valid booktype')\n",
    "            "
   ]
  },
  {
   "cell_type": "code",
   "execution_count": 70,
   "metadata": {},
   "outputs": [
    {
     "ename": "ValueError",
     "evalue": "Comic is not a valid booktype",
     "output_type": "error",
     "traceback": [
      "\u001b[1;31m---------------------------------------------------------------------------\u001b[0m",
      "\u001b[1;31mValueError\u001b[0m                                Traceback (most recent call last)",
      "Cell \u001b[1;32mIn[70], line 2\u001b[0m\n\u001b[0;32m      1\u001b[0m book1 \u001b[39m=\u001b[39m Book(\u001b[39m'\u001b[39m\u001b[39mT1\u001b[39m\u001b[39m'\u001b[39m,\u001b[39m'\u001b[39m\u001b[39mHARDCOVER\u001b[39m\u001b[39m'\u001b[39m)\n\u001b[1;32m----> 2\u001b[0m book2 \u001b[39m=\u001b[39m Book(\u001b[39m'\u001b[39;49m\u001b[39mT2\u001b[39;49m\u001b[39m'\u001b[39;49m, \u001b[39m'\u001b[39;49m\u001b[39mComic\u001b[39;49m\u001b[39m'\u001b[39;49m)\n",
      "Cell \u001b[1;32mIn[67], line 25\u001b[0m, in \u001b[0;36mBook.__init__\u001b[1;34m(self, title, booktype)\u001b[0m\n\u001b[0;32m     23\u001b[0m     \u001b[39mself\u001b[39m\u001b[39m.\u001b[39mbooktype \u001b[39m=\u001b[39m booktype\n\u001b[0;32m     24\u001b[0m \u001b[39melse\u001b[39;00m:\n\u001b[1;32m---> 25\u001b[0m     \u001b[39mraise\u001b[39;00m \u001b[39mValueError\u001b[39;00m(\u001b[39mf\u001b[39m\u001b[39m'\u001b[39m\u001b[39m{\u001b[39;00mbooktype\u001b[39m}\u001b[39;00m\u001b[39m is not a valid booktype\u001b[39m\u001b[39m'\u001b[39m)\n",
      "\u001b[1;31mValueError\u001b[0m: Comic is not a valid booktype"
     ]
    }
   ],
   "source": [
    "book1 = Book('T1','HARDCOVER')  # will succeed\n",
    "book2 = Book('T2', 'Comic')     # will fail cuz"
   ]
  },
  {
   "cell_type": "code",
   "execution_count": null,
   "metadata": {},
   "outputs": [],
   "source": [
    "thebooks = Book.getbooklist()\n",
    "thebooks.append(book1)"
   ]
  }
 ],
 "metadata": {
  "kernelspec": {
   "display_name": "Python 3",
   "language": "python",
   "name": "python3"
  },
  "language_info": {
   "codemirror_mode": {
    "name": "ipython",
    "version": 3
   },
   "file_extension": ".py",
   "mimetype": "text/x-python",
   "name": "python",
   "nbconvert_exporter": "python",
   "pygments_lexer": "ipython3",
   "version": "3.11.3"
  },
  "orig_nbformat": 4
 },
 "nbformat": 4,
 "nbformat_minor": 2
}
