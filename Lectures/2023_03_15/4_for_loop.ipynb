{
 "cells": [
  {
   "attachments": {},
   "cell_type": "markdown",
   "metadata": {},
   "source": [
    "# FOR LOOP"
   ]
  },
  {
   "cell_type": "code",
   "execution_count": 2,
   "metadata": {},
   "outputs": [
    {
     "name": "stdout",
     "output_type": "stream",
     "text": [
      "1\n",
      "2\n",
      "3\n"
     ]
    }
   ],
   "source": [
    "for i in [1,2,3]:\n",
    "    print(i)"
   ]
  },
  {
   "cell_type": "code",
   "execution_count": 3,
   "metadata": {},
   "outputs": [
    {
     "name": "stdout",
     "output_type": "stream",
     "text": [
      "H\n",
      "e\n",
      "l\n",
      "l\n",
      "o\n"
     ]
    }
   ],
   "source": [
    "for ch in 'Hello':\n",
    "    print(ch)"
   ]
  },
  {
   "cell_type": "code",
   "execution_count": 4,
   "metadata": {},
   "outputs": [
    {
     "name": "stdout",
     "output_type": "stream",
     "text": [
      "0 Enterprise\n",
      "1 Enterprise\n",
      "2 Enterprise\n",
      "3 Enterprise\n",
      "4 Enterprise\n"
     ]
    }
   ],
   "source": [
    "for num in range(5):\n",
    "    print(num, 'Enterprise')"
   ]
  },
  {
   "cell_type": "markdown",
   "metadata": {},
   "source": [
    "## Task: Test five times if the actual minute is odd or even"
   ]
  },
  {
   "cell_type": "code",
   "execution_count": 5,
   "metadata": {},
   "outputs": [
    {
     "name": "stdout",
     "output_type": "stream",
     "text": [
      "This minute seems a little odd\n",
      "This minute seems a little odd\n",
      "This minute seems a little odd\n",
      "This minute seems a little odd\n",
      "This minute seems a little odd\n"
     ]
    }
   ],
   "source": [
    "from datetime import datetime\n",
    "for num in range(5):\n",
    "    if datetime.today().minute % 2:\n",
    "        print('This minute seems a little odd')\n",
    "    else: \n",
    "        print('Not an odd minute')"
   ]
  },
  {
   "attachments": {},
   "cell_type": "markdown",
   "metadata": {},
   "source": [
    "## Task: Excecution pause"
   ]
  },
  {
   "cell_type": "code",
   "execution_count": 6,
   "metadata": {},
   "outputs": [
    {
     "name": "stdout",
     "output_type": "stream",
     "text": [
      "This minute seems a little odd\n",
      "This minute seems a little odd\n"
     ]
    },
    {
     "ename": "KeyboardInterrupt",
     "evalue": "",
     "output_type": "error",
     "traceback": [
      "\u001b[0;31m---------------------------------------------------------------------------\u001b[0m",
      "\u001b[0;31mKeyboardInterrupt\u001b[0m                         Traceback (most recent call last)",
      "Cell \u001b[0;32mIn[6], line 15\u001b[0m\n\u001b[1;32m     12\u001b[0m     \u001b[39mprint\u001b[39m(\u001b[39m'\u001b[39m\u001b[39mNot an odd minute\u001b[39m\u001b[39m'\u001b[39m)\n\u001b[1;32m     14\u001b[0m waite_time \u001b[39m=\u001b[39m random\u001b[39m.\u001b[39mrandint(\u001b[39m1\u001b[39m,\u001b[39m15\u001b[39m)   \u001b[39m# waiting time random on every execution\u001b[39;00m\n\u001b[0;32m---> 15\u001b[0m time\u001b[39m.\u001b[39;49msleep(waite_time)\n",
      "\u001b[0;31mKeyboardInterrupt\u001b[0m: "
     ]
    }
   ],
   "source": [
    "import datetime\n",
    "import time\n",
    "import random\n",
    "\n",
    "waite_time = random.randint(1,15)   # waiting time fixed \n",
    "\n",
    "from datetime import datetime\n",
    "for num in range(5):\n",
    "    if datetime.today().minute % 2:\n",
    "        print('This minute seems a little odd')\n",
    "    else: \n",
    "        print('Not an odd minute')\n",
    "\n",
    "    waite_time = random.randint(1,15)   # waiting time random on every execution\n",
    "    time.sleep(waite_time)"
   ]
  },
  {
   "attachments": {},
   "cell_type": "markdown",
   "metadata": {},
   "source": [
    "## Task: Write a program to print all lines\n",
    "\n",
    "3 bottles of beer on the wall.\n",
    "3 bottles of beer on the wall.  \n",
    "3 bottles of beer.  \n",
    "\n",
    "Take one down.  \n",
    "Pass it around.  \n",
    "\n",
    "2 bottles of beer on the wall.  \n",
    "2 bottles of beer on the wall.  \n",
    "2 bottles of beer.  \n",
    "\n",
    "Take one down.  \n",
    "Pass it around.  \n",
    "\n",
    "1 bottle of beer on the wall.  \n",
    "1 bottle of beer on the wall.  \n",
    "1 bottle of beer.  \n",
    "\n",
    "Take one down.  \n",
    "Pass it around.\n",
    "\n",
    "No more bottles of beer on the wall."
   ]
  },
  {
   "cell_type": "code",
   "execution_count": 7,
   "metadata": {},
   "outputs": [
    {
     "ename": "TypeError",
     "evalue": "unsupported operand type(s) for -: 'str' and 'int'",
     "output_type": "error",
     "traceback": [
      "\u001b[0;31m---------------------------------------------------------------------------\u001b[0m",
      "\u001b[0;31mTypeError\u001b[0m                                 Traceback (most recent call last)",
      "Cell \u001b[0;32mIn[7], line 1\u001b[0m\n\u001b[0;32m----> 1\u001b[0m bottle \u001b[39m=\u001b[39m \u001b[39m'\u001b[39;49m\u001b[39mbottle\u001b[39;49m\u001b[39m'\u001b[39;49m\u001b[39m-\u001b[39;49m\u001b[39m1\u001b[39;49m\n\u001b[1;32m      2\u001b[0m bottles \u001b[39m=\u001b[39m \u001b[39m'\u001b[39m\u001b[39mbottles\u001b[39m\u001b[39m'\u001b[39m\n\u001b[1;32m      4\u001b[0m \u001b[39mfor\u001b[39;00m i \u001b[39min\u001b[39;00m \u001b[39mrange\u001b[39m(\u001b[39m3\u001b[39m,\u001b[39m0\u001b[39m,\u001b[39m-\u001b[39m\u001b[39m1\u001b[39m):\n",
      "\u001b[0;31mTypeError\u001b[0m: unsupported operand type(s) for -: 'str' and 'int'"
     ]
    }
   ],
   "source": [
    "bottle = 'bottle'\n",
    "bottles = 'bottles'\n",
    "\n",
    "for i in range(3,0,-1):\n",
    "    \n",
    "    for num in range (2):\n",
    "\n",
    "        if i == 1:\n",
    "            print(i, bottle, 'of beer on the wall.')\n",
    "        else:\n",
    "            print(i, bottles, 'of beer on the wall.')\n",
    "\n",
    "    if i == 1:\n",
    "        print(i, bottle, 'of beer.')\n",
    "    else: \n",
    "        print(i, bottles, 'of beer.')\n",
    "    \n",
    "    print('\\nTake one down. \\nPass it around.\\n')   # \\n -> new line\n",
    "\n",
    "print('No more bottles of beer on the wall.')"
   ]
  },
  {
   "cell_type": "code",
   "execution_count": null,
   "metadata": {},
   "outputs": [],
   "source": []
  }
 ],
 "metadata": {
  "kernelspec": {
   "display_name": "Python 3",
   "language": "python",
   "name": "python3"
  },
  "language_info": {
   "codemirror_mode": {
    "name": "ipython",
    "version": 3
   },
   "file_extension": ".py",
   "mimetype": "text/x-python",
   "name": "python",
   "nbconvert_exporter": "python",
   "pygments_lexer": "ipython3",
   "version": "3.10.4"
  },
  "orig_nbformat": 4
 },
 "nbformat": 4,
 "nbformat_minor": 2
}
