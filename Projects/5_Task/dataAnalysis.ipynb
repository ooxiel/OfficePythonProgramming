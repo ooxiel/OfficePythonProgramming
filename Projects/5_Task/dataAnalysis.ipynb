{
 "cells": [
  {
   "attachments": {},
   "cell_type": "markdown",
   "metadata": {},
   "source": [
    "# Analyzing Data\n",
    "\n",
    "In this code the goal is to create a figure that contains three different axes. The requirements for the figures are as following:\n",
    "1. Create a Heatmap\n",
    "2. Choose any axes type\n",
    "3. Choose any axes type except barchart, scatterplot oder line diagram\n"
   ]
  },
  {
   "attachments": {},
   "cell_type": "markdown",
   "metadata": {},
   "source": [
    "## Connecting to DB\n",
    "\n",
    "At first an connection to the dabase is established, to get access to the data. The output of the Code is an SQL-Query, that contains the databasename (first element) und -status (second element). It's just to proof, that the connection was sucessful.\n",
    "</br></br>\n",
    "*CAUTION:* The following Code was written for an locally hosted SQL-Server with Windows Authentification."
   ]
  },
  {
   "cell_type": "code",
   "execution_count": 16,
   "metadata": {},
   "outputs": [
    {
     "name": "stdout",
     "output_type": "stream",
     "text": [
      "[('mueller', 'ONLINE')]\n"
     ]
    }
   ],
   "source": [
    "import pyodbc as odbc\n",
    "\n",
    "#DRIVER = input(r'Insert Driver name')           # input driver name -> use because of different driver names\n",
    "#print(f\"you choose: {DRIVER} as your driver\")   # print driver name for confirmation\n",
    "DRIVER = 'SQL Server'                           # set driver name to 'SQL Server\n",
    "\n",
    "#SERVER = input(r'Insert Server name')           # input server name -> use because of different server names\n",
    "#print(f\"you choose: {SERVER} as your server\")   # print server name for confirmation\n",
    "\n",
    "SERVER = f'CUBRIM\\SQLEXPRESS'\n",
    "\n",
    "#DB = input(r'Insert Database name')             # input database name -> use because of different database names\n",
    "#print(f\"you choose: {DB} as your database\")     # print database name for confirmation\n",
    "\n",
    "DB = 'mueller'\n",
    "\n",
    "# Build Connection\n",
    "connect_string = f'DRIVER={DRIVER};SERVER={SERVER};DATABASE={DB};Trusted_Connection=yes;'   # build connection string\n",
    "conn = odbc.connect(connect_string)                                                         # connect to database\n",
    "cursor = conn.cursor()                                                                      # create cursor object\n",
    "\n",
    "cursor.execute(f\"SELECT DB_NAME() AS DatabaseName, CONVERT(varchar(255),DATABASEPROPERTYEX('master', 'Status')) AS DBStatus\")   # small query to get the server status\n",
    "x = cursor.fetchall()\n",
    "print(x)                                                                                                                # print query result"
   ]
  },
  {
   "cell_type": "code",
   "execution_count": null,
   "metadata": {},
   "outputs": [],
   "source": []
  },
  {
   "attachments": {},
   "cell_type": "markdown",
   "metadata": {},
   "source": [
    "## Heatmap\n",
    "\n",
    "Heatmap shows the mean approvalquote of approve in general, approve democrats and approve republicans. By quarter and Year\n",
    "\n",
    "- one start and end year aren't matching\n",
    "- to keep the work simpler, that isn't "
   ]
  },
  {
   "cell_type": "code",
   "execution_count": 85,
   "metadata": {},
   "outputs": [
    {
     "data": {
      "image/png": "[encoded data removed]",
      "text/plain": [
       "<Figure size 200x200 with 4 Axes>"
      ]
     },
     "metadata": {},
     "output_type": "display_data"
    }
   ],
   "source": [
    "import matplotlib.pyplot as plt\n",
    "import pandas as pd\n",
    "import seaborn as sns\n",
    "\n",
    "def convertLisTupleToList(listIN: list)-> list:\n",
    "    '''used convert list of tuples into one-dimensional list'''\n",
    "    listOUT = []\n",
    "\n",
    "    for i in range (0, len(listIN)):\n",
    "        listOUT.append(listIN[i][0])\n",
    "\n",
    "    return listOUT\n",
    "\n",
    "\n",
    "cursor.execute(f\"SELECT DISTINCT YEAR(startDate), YEAR(endDate) FROM fact_survey WHERE YEAR(startDate) = YEAR(endDate)\")\n",
    "result_years = cursor.fetchall()\n",
    "labels_year = convertLisTupleToList(result_years)\n",
    "\n",
    "cursor.execute(f\"SELECT categorie FROM dim_categorieDate\")\n",
    "result_quarters = cursor.fetchall()\n",
    "labels_quarter = convertLisTupleToList(result_quarters)\n",
    "\n",
    "cursor.execute(f\"SELECT approve, approveDemocrats, approveRepublicans, startQuartal FROM all_fact_dim WHERE YEAR(startDate) = YEAR(endDate) AND startQuartal = endQuartal AND YEAR(startDate) = 2017\")\n",
    "data_2017 = cursor.fetchall()\n",
    "\n",
    "cursor.execute(f\"SELECT approve, approveDemocrats, approveRepublicans, startQuartal FROM all_fact_dim WHERE YEAR(startDate) = YEAR(endDate) AND startQuartal = endQuartal AND YEAR(startDate) = 2018\")\n",
    "data_2018 = cursor.fetchall()\n",
    "\n",
    "cursor.execute(f\"SELECT approve, approveDemocrats, approveRepublicans, startQuartal FROM all_fact_dim WHERE YEAR(startDate) = YEAR(endDate) AND startQuartal = endQuartal AND YEAR(startDate) = 2019\")\n",
    "data_2019 = cursor.fetchall()\n",
    "\n",
    "def dataYearQuartal (data: list)-> list:\n",
    "    '''used to get the data for a specific year and quartal'''\n",
    "    dataOUT = []\n",
    "\n",
    "    meanByQ1 = 0\n",
    "    countDataQ1 = 0\n",
    "\n",
    "    meanByQ2 = 0\n",
    "    countDataQ2 = 0\n",
    "\n",
    "    meanByQ3 = 0\n",
    "    countDataQ3 = 0\n",
    "\n",
    "    meanByQ4 = 0\n",
    "    countDataQ4 = 0\n",
    "\n",
    "    for i in range (0, len(data)):\n",
    "        if data[i][3] == '1. quarter':\n",
    "            countDataQ1 += 3\n",
    "            meanByQ1 += data[i][0]+data[i][1]+data[i][2]\n",
    "\n",
    "        elif data[i][3] == '2. quarter':\n",
    "            countDataQ2 += 3\n",
    "            meanByQ2 += data[i][0]+data[i][1]+data[i][2]\n",
    "\n",
    "        elif data[i][3] == '3. quarter':\n",
    "            countDataQ3 += 3\n",
    "            meanByQ3 += data[i][0]+data[i][1]+data[i][2]\n",
    "\n",
    "        elif data[i][3] == '4. quarter':\n",
    "            countDataQ4 += 3\n",
    "            meanByQ4 += data[i][0]+data[i][1]+data[i][2]\n",
    "\n",
    "    if countDataQ1 == 0:\n",
    "        dataOUT.append(0)\n",
    "    else:\n",
    "        meanByQ1 = meanByQ1 / countDataQ1\n",
    "        dataOUT.append(meanByQ1)\n",
    "\n",
    "    if countDataQ2 == 0:\n",
    "        dataOUT.append(0)\n",
    "    else:\n",
    "        meanByQ2 = meanByQ2 / countDataQ2\n",
    "        dataOUT.append(meanByQ2)\n",
    "\n",
    "    if countDataQ3 == 0:\n",
    "        dataOUT.append(0)\n",
    "    else:\n",
    "        meanByQ3 = meanByQ3 / countDataQ3\n",
    "        dataOUT.append(meanByQ3)\n",
    "\n",
    "    if countDataQ4 == 0:\n",
    "        dataOUT.append(0)\n",
    "    else:\n",
    "        meanByQ4 = meanByQ4 / countDataQ4\n",
    "        dataOUT.append(meanByQ4)\n",
    "\n",
    "    return dataOUT\n",
    "\n",
    "data_2017 = dataYearQuartal(data_2017)\n",
    "data_2018 = dataYearQuartal(data_2018)\n",
    "data_2019 = dataYearQuartal(data_2019)\n",
    "\n",
    "heat_array = (data_2017, data_2018, data_2019)\n",
    "\n",
    "\n",
    "df = pd.DataFrame(heat_array, index=labels_year, columns=labels_quarter)\n",
    "\n",
    "fig, ax = plt.subplots(3)\n",
    "\n",
    "ax = sns.heatmap(df, annot=True, fmt=\"g\", cmap='hot', vmin=0, vmax=100, annot_kws={\"size\": 12}, cbar_kws={'label': 'approval rate in %'})\n",
    "\n"
   ]
  },
  {
   "attachments": {},
   "cell_type": "markdown",
   "metadata": {},
   "source": [
    "## Scatterplot"
   ]
  },
  {
   "cell_type": "code",
   "execution_count": 24,
   "metadata": {},
   "outputs": [
    {
     "name": "stdout",
     "output_type": "stream",
     "text": [
      "[1, 2, 3, 4]\n"
     ]
    }
   ],
   "source": [
    "import matplotlib as mpl\n",
    "import matplotlib.pyplot as plt\n",
    "import pandas as pd\n",
    "import numpy as np\n",
    "\n",
    "import matplotlib.pyplot as plt\n",
    "import numpy as np\n",
    "\n",
    "\n",
    "def convertLisTupleToList(listIN: list)-> list:\n",
    "    '''used convert list of tuples into one-dimensional list'''\n",
    "    listOUT = []\n",
    "\n",
    "    for i in range (0, len(listIN)):\n",
    "        listOUT.append(listIN[i][0])\n",
    "\n",
    "    return listOUT\n",
    "\n",
    "\n",
    "cursor.execute(f\"SELECT * FROM dim_categorieDate\")\n",
    "resultQuarter = cursor.fetchall()\n",
    "resultQuarter = convertLisTupleToList(resultQuarter)\n",
    " \n",
    "cursor.execute(f\"SELECT * FROM \")\n",
    "\n",
    "\n",
    "\n",
    "\n",
    "\n",
    "\n",
    "\n",
    "\n"
   ]
  }
 ],
 "metadata": {
  "kernelspec": {
   "display_name": "Python 3",
   "language": "python",
   "name": "python3"
  },
  "language_info": {
   "codemirror_mode": {
    "name": "ipython",
    "version": 3
   },
   "file_extension": ".py",
   "mimetype": "text/x-python",
   "name": "python",
   "nbconvert_exporter": "python",
   "pygments_lexer": "ipython3",
   "version": "3.11.3"
  },
  "orig_nbformat": 4
 },
 "nbformat": 4,
 "nbformat_minor": 2
}
